{
  "nbformat": 4,
  "nbformat_minor": 0,
  "metadata": {
    "colab": {
      "provenance": []
    },
    "kernelspec": {
      "name": "python3",
      "display_name": "Python 3"
    },
    "language_info": {
      "name": "python"
    }
  },
  "cells": [
    {
      "cell_type": "code",
      "source": [
        "pip install emoji"
      ],
      "metadata": {
        "id": "MoTlYMumJDtI",
        "colab": {
          "base_uri": "https://localhost:8080/"
        },
        "outputId": "7720d758-af1a-4d87-dcb2-a464f6c43edf"
      },
      "execution_count": null,
      "outputs": [
        {
          "output_type": "stream",
          "name": "stdout",
          "text": [
            "Requirement already satisfied: emoji in /usr/local/lib/python3.10/dist-packages (2.11.0)\n"
          ]
        }
      ]
    },
    {
      "cell_type": "code",
      "execution_count": null,
      "metadata": {
        "id": "19FoplwEH21O"
      },
      "outputs": [],
      "source": [
        "import numpy as np\n",
        "import pandas as pd\n",
        "import re\n",
        "import nltk\n",
        "import emoji\n",
        "import spacy\n",
        "import string\n",
        "from textblob import TextBlob"
      ]
    },
    {
      "cell_type": "code",
      "source": [
        "df = pd.read_csv('anger.csv')\n",
        "df.head()"
      ],
      "metadata": {
        "id": "Gnyi5i9CS2vt",
        "colab": {
          "base_uri": "https://localhost:8080/",
          "height": 206
        },
        "outputId": "918f78ba-9a99-4aa3-dc4e-02137dffc3d3"
      },
      "execution_count": null,
      "outputs": [
        {
          "output_type": "execute_result",
          "data": {
            "text/plain": [
              "      ID                                               text remove  rating\n",
              "0  10000  How the fu*k! Who the heck! moved my fridge!.....  anger   0.938\n",
              "1  10001  So my Indian Uber driver just called someone t...  anger   0.896\n",
              "2  10002  @DPD_UK I asked for my parcel to be delivered ...  anger   0.896\n",
              "3  10003  so ef whichever butt wipe pulled the fire alar...  anger   0.896\n",
              "4  10004  Don't join @BTCare they put the phone down on ...  anger   0.896"
            ],
            "text/html": [
              "\n",
              "  <div id=\"df-40f7742d-408e-4496-ba59-209ee93b1852\" class=\"colab-df-container\">\n",
              "    <div>\n",
              "<style scoped>\n",
              "    .dataframe tbody tr th:only-of-type {\n",
              "        vertical-align: middle;\n",
              "    }\n",
              "\n",
              "    .dataframe tbody tr th {\n",
              "        vertical-align: top;\n",
              "    }\n",
              "\n",
              "    .dataframe thead th {\n",
              "        text-align: right;\n",
              "    }\n",
              "</style>\n",
              "<table border=\"1\" class=\"dataframe\">\n",
              "  <thead>\n",
              "    <tr style=\"text-align: right;\">\n",
              "      <th></th>\n",
              "      <th>ID</th>\n",
              "      <th>text</th>\n",
              "      <th>remove</th>\n",
              "      <th>rating</th>\n",
              "    </tr>\n",
              "  </thead>\n",
              "  <tbody>\n",
              "    <tr>\n",
              "      <th>0</th>\n",
              "      <td>10000</td>\n",
              "      <td>How the fu*k! Who the heck! moved my fridge!.....</td>\n",
              "      <td>anger</td>\n",
              "      <td>0.938</td>\n",
              "    </tr>\n",
              "    <tr>\n",
              "      <th>1</th>\n",
              "      <td>10001</td>\n",
              "      <td>So my Indian Uber driver just called someone t...</td>\n",
              "      <td>anger</td>\n",
              "      <td>0.896</td>\n",
              "    </tr>\n",
              "    <tr>\n",
              "      <th>2</th>\n",
              "      <td>10002</td>\n",
              "      <td>@DPD_UK I asked for my parcel to be delivered ...</td>\n",
              "      <td>anger</td>\n",
              "      <td>0.896</td>\n",
              "    </tr>\n",
              "    <tr>\n",
              "      <th>3</th>\n",
              "      <td>10003</td>\n",
              "      <td>so ef whichever butt wipe pulled the fire alar...</td>\n",
              "      <td>anger</td>\n",
              "      <td>0.896</td>\n",
              "    </tr>\n",
              "    <tr>\n",
              "      <th>4</th>\n",
              "      <td>10004</td>\n",
              "      <td>Don't join @BTCare they put the phone down on ...</td>\n",
              "      <td>anger</td>\n",
              "      <td>0.896</td>\n",
              "    </tr>\n",
              "  </tbody>\n",
              "</table>\n",
              "</div>\n",
              "    <div class=\"colab-df-buttons\">\n",
              "\n",
              "  <div class=\"colab-df-container\">\n",
              "    <button class=\"colab-df-convert\" onclick=\"convertToInteractive('df-40f7742d-408e-4496-ba59-209ee93b1852')\"\n",
              "            title=\"Convert this dataframe to an interactive table.\"\n",
              "            style=\"display:none;\">\n",
              "\n",
              "  <svg xmlns=\"http://www.w3.org/2000/svg\" height=\"24px\" viewBox=\"0 -960 960 960\">\n",
              "    <path d=\"M120-120v-720h720v720H120Zm60-500h600v-160H180v160Zm220 220h160v-160H400v160Zm0 220h160v-160H400v160ZM180-400h160v-160H180v160Zm440 0h160v-160H620v160ZM180-180h160v-160H180v160Zm440 0h160v-160H620v160Z\"/>\n",
              "  </svg>\n",
              "    </button>\n",
              "\n",
              "  <style>\n",
              "    .colab-df-container {\n",
              "      display:flex;\n",
              "      gap: 12px;\n",
              "    }\n",
              "\n",
              "    .colab-df-convert {\n",
              "      background-color: #E8F0FE;\n",
              "      border: none;\n",
              "      border-radius: 50%;\n",
              "      cursor: pointer;\n",
              "      display: none;\n",
              "      fill: #1967D2;\n",
              "      height: 32px;\n",
              "      padding: 0 0 0 0;\n",
              "      width: 32px;\n",
              "    }\n",
              "\n",
              "    .colab-df-convert:hover {\n",
              "      background-color: #E2EBFA;\n",
              "      box-shadow: 0px 1px 2px rgba(60, 64, 67, 0.3), 0px 1px 3px 1px rgba(60, 64, 67, 0.15);\n",
              "      fill: #174EA6;\n",
              "    }\n",
              "\n",
              "    .colab-df-buttons div {\n",
              "      margin-bottom: 4px;\n",
              "    }\n",
              "\n",
              "    [theme=dark] .colab-df-convert {\n",
              "      background-color: #3B4455;\n",
              "      fill: #D2E3FC;\n",
              "    }\n",
              "\n",
              "    [theme=dark] .colab-df-convert:hover {\n",
              "      background-color: #434B5C;\n",
              "      box-shadow: 0px 1px 3px 1px rgba(0, 0, 0, 0.15);\n",
              "      filter: drop-shadow(0px 1px 2px rgba(0, 0, 0, 0.3));\n",
              "      fill: #FFFFFF;\n",
              "    }\n",
              "  </style>\n",
              "\n",
              "    <script>\n",
              "      const buttonEl =\n",
              "        document.querySelector('#df-40f7742d-408e-4496-ba59-209ee93b1852 button.colab-df-convert');\n",
              "      buttonEl.style.display =\n",
              "        google.colab.kernel.accessAllowed ? 'block' : 'none';\n",
              "\n",
              "      async function convertToInteractive(key) {\n",
              "        const element = document.querySelector('#df-40f7742d-408e-4496-ba59-209ee93b1852');\n",
              "        const dataTable =\n",
              "          await google.colab.kernel.invokeFunction('convertToInteractive',\n",
              "                                                    [key], {});\n",
              "        if (!dataTable) return;\n",
              "\n",
              "        const docLinkHtml = 'Like what you see? Visit the ' +\n",
              "          '<a target=\"_blank\" href=https://colab.research.google.com/notebooks/data_table.ipynb>data table notebook</a>'\n",
              "          + ' to learn more about interactive tables.';\n",
              "        element.innerHTML = '';\n",
              "        dataTable['output_type'] = 'display_data';\n",
              "        await google.colab.output.renderOutput(dataTable, element);\n",
              "        const docLink = document.createElement('div');\n",
              "        docLink.innerHTML = docLinkHtml;\n",
              "        element.appendChild(docLink);\n",
              "      }\n",
              "    </script>\n",
              "  </div>\n",
              "\n",
              "\n",
              "<div id=\"df-55948474-0009-4944-b295-37d09864c165\">\n",
              "  <button class=\"colab-df-quickchart\" onclick=\"quickchart('df-55948474-0009-4944-b295-37d09864c165')\"\n",
              "            title=\"Suggest charts\"\n",
              "            style=\"display:none;\">\n",
              "\n",
              "<svg xmlns=\"http://www.w3.org/2000/svg\" height=\"24px\"viewBox=\"0 0 24 24\"\n",
              "     width=\"24px\">\n",
              "    <g>\n",
              "        <path d=\"M19 3H5c-1.1 0-2 .9-2 2v14c0 1.1.9 2 2 2h14c1.1 0 2-.9 2-2V5c0-1.1-.9-2-2-2zM9 17H7v-7h2v7zm4 0h-2V7h2v10zm4 0h-2v-4h2v4z\"/>\n",
              "    </g>\n",
              "</svg>\n",
              "  </button>\n",
              "\n",
              "<style>\n",
              "  .colab-df-quickchart {\n",
              "      --bg-color: #E8F0FE;\n",
              "      --fill-color: #1967D2;\n",
              "      --hover-bg-color: #E2EBFA;\n",
              "      --hover-fill-color: #174EA6;\n",
              "      --disabled-fill-color: #AAA;\n",
              "      --disabled-bg-color: #DDD;\n",
              "  }\n",
              "\n",
              "  [theme=dark] .colab-df-quickchart {\n",
              "      --bg-color: #3B4455;\n",
              "      --fill-color: #D2E3FC;\n",
              "      --hover-bg-color: #434B5C;\n",
              "      --hover-fill-color: #FFFFFF;\n",
              "      --disabled-bg-color: #3B4455;\n",
              "      --disabled-fill-color: #666;\n",
              "  }\n",
              "\n",
              "  .colab-df-quickchart {\n",
              "    background-color: var(--bg-color);\n",
              "    border: none;\n",
              "    border-radius: 50%;\n",
              "    cursor: pointer;\n",
              "    display: none;\n",
              "    fill: var(--fill-color);\n",
              "    height: 32px;\n",
              "    padding: 0;\n",
              "    width: 32px;\n",
              "  }\n",
              "\n",
              "  .colab-df-quickchart:hover {\n",
              "    background-color: var(--hover-bg-color);\n",
              "    box-shadow: 0 1px 2px rgba(60, 64, 67, 0.3), 0 1px 3px 1px rgba(60, 64, 67, 0.15);\n",
              "    fill: var(--button-hover-fill-color);\n",
              "  }\n",
              "\n",
              "  .colab-df-quickchart-complete:disabled,\n",
              "  .colab-df-quickchart-complete:disabled:hover {\n",
              "    background-color: var(--disabled-bg-color);\n",
              "    fill: var(--disabled-fill-color);\n",
              "    box-shadow: none;\n",
              "  }\n",
              "\n",
              "  .colab-df-spinner {\n",
              "    border: 2px solid var(--fill-color);\n",
              "    border-color: transparent;\n",
              "    border-bottom-color: var(--fill-color);\n",
              "    animation:\n",
              "      spin 1s steps(1) infinite;\n",
              "  }\n",
              "\n",
              "  @keyframes spin {\n",
              "    0% {\n",
              "      border-color: transparent;\n",
              "      border-bottom-color: var(--fill-color);\n",
              "      border-left-color: var(--fill-color);\n",
              "    }\n",
              "    20% {\n",
              "      border-color: transparent;\n",
              "      border-left-color: var(--fill-color);\n",
              "      border-top-color: var(--fill-color);\n",
              "    }\n",
              "    30% {\n",
              "      border-color: transparent;\n",
              "      border-left-color: var(--fill-color);\n",
              "      border-top-color: var(--fill-color);\n",
              "      border-right-color: var(--fill-color);\n",
              "    }\n",
              "    40% {\n",
              "      border-color: transparent;\n",
              "      border-right-color: var(--fill-color);\n",
              "      border-top-color: var(--fill-color);\n",
              "    }\n",
              "    60% {\n",
              "      border-color: transparent;\n",
              "      border-right-color: var(--fill-color);\n",
              "    }\n",
              "    80% {\n",
              "      border-color: transparent;\n",
              "      border-right-color: var(--fill-color);\n",
              "      border-bottom-color: var(--fill-color);\n",
              "    }\n",
              "    90% {\n",
              "      border-color: transparent;\n",
              "      border-bottom-color: var(--fill-color);\n",
              "    }\n",
              "  }\n",
              "</style>\n",
              "\n",
              "  <script>\n",
              "    async function quickchart(key) {\n",
              "      const quickchartButtonEl =\n",
              "        document.querySelector('#' + key + ' button');\n",
              "      quickchartButtonEl.disabled = true;  // To prevent multiple clicks.\n",
              "      quickchartButtonEl.classList.add('colab-df-spinner');\n",
              "      try {\n",
              "        const charts = await google.colab.kernel.invokeFunction(\n",
              "            'suggestCharts', [key], {});\n",
              "      } catch (error) {\n",
              "        console.error('Error during call to suggestCharts:', error);\n",
              "      }\n",
              "      quickchartButtonEl.classList.remove('colab-df-spinner');\n",
              "      quickchartButtonEl.classList.add('colab-df-quickchart-complete');\n",
              "    }\n",
              "    (() => {\n",
              "      let quickchartButtonEl =\n",
              "        document.querySelector('#df-55948474-0009-4944-b295-37d09864c165 button');\n",
              "      quickchartButtonEl.style.display =\n",
              "        google.colab.kernel.accessAllowed ? 'block' : 'none';\n",
              "    })();\n",
              "  </script>\n",
              "</div>\n",
              "\n",
              "    </div>\n",
              "  </div>\n"
            ],
            "application/vnd.google.colaboratory.intrinsic+json": {
              "type": "dataframe",
              "variable_name": "df",
              "summary": "{\n  \"name\": \"df\",\n  \"rows\": 857,\n  \"fields\": [\n    {\n      \"column\": \"ID\",\n      \"properties\": {\n        \"dtype\": \"number\",\n        \"std\": 247,\n        \"min\": 10000,\n        \"max\": 10856,\n        \"num_unique_values\": 857,\n        \"samples\": [\n          10712,\n          10603,\n          10120\n        ],\n        \"semantic_type\": \"\",\n        \"description\": \"\"\n      }\n    },\n    {\n      \"column\": \"text\",\n      \"properties\": {\n        \"dtype\": \"string\",\n        \"num_unique_values\": 857,\n        \"samples\": [\n          \"A wise man told me that holdin' a grudge is like\\\\nLetting somebody just live inside of your head rent free\",\n          \"What's a Kali's kitten? [She asked, a frown curling on her fair skinned forehead as he showed her the scar] A cat did - (@ScarredTiger)\",\n          \"@FoxNews @SheriffClarke @FoxNewsInsider This man is an affront to our justice system.\"\n        ],\n        \"semantic_type\": \"\",\n        \"description\": \"\"\n      }\n    },\n    {\n      \"column\": \"remove\",\n      \"properties\": {\n        \"dtype\": \"category\",\n        \"num_unique_values\": 1,\n        \"samples\": [\n          \"anger\"\n        ],\n        \"semantic_type\": \"\",\n        \"description\": \"\"\n      }\n    },\n    {\n      \"column\": \"rating\",\n      \"properties\": {\n        \"dtype\": \"number\",\n        \"std\": 0.16916918932006636,\n        \"min\": 0.067,\n        \"max\": 0.938,\n        \"num_unique_values\": 135,\n        \"samples\": [\n          0.354\n        ],\n        \"semantic_type\": \"\",\n        \"description\": \"\"\n      }\n    }\n  ]\n}"
            }
          },
          "metadata": {},
          "execution_count": 7
        }
      ]
    },
    {
      "cell_type": "code",
      "source": [
        "df.isnull().sum()"
      ],
      "metadata": {
        "id": "PZ1SMfFd7PwZ",
        "outputId": "a7bd674d-57ff-4ce3-d82f-9d0b23996314",
        "colab": {
          "base_uri": "https://localhost:8080/"
        }
      },
      "execution_count": null,
      "outputs": [
        {
          "output_type": "execute_result",
          "data": {
            "text/plain": [
              "text      0\n",
              "rating    0\n",
              "dtype: int64"
            ]
          },
          "metadata": {},
          "execution_count": 43
        }
      ]
    },
    {
      "cell_type": "code",
      "source": [
        "df = df.drop(columns = ['ID', 'remove'])"
      ],
      "metadata": {
        "id": "MiRLTUtVBqBh"
      },
      "execution_count": null,
      "outputs": []
    },
    {
      "cell_type": "code",
      "source": [
        "df.shape"
      ],
      "metadata": {
        "id": "EZzmcl9VB4wt",
        "colab": {
          "base_uri": "https://localhost:8080/"
        },
        "outputId": "145127ee-be1f-4029-ef47-5005aca913f5"
      },
      "execution_count": null,
      "outputs": [
        {
          "output_type": "execute_result",
          "data": {
            "text/plain": [
              "(857, 2)"
            ]
          },
          "metadata": {},
          "execution_count": 9
        }
      ]
    },
    {
      "cell_type": "code",
      "source": [
        "#0 Dealing with Chat Words\n",
        "\n",
        "chat_words = {\n",
        "    'AFAIK': 'As Far As I Know',\n",
        "    'AFK': 'Away From Keyboard',\n",
        "    'ASAP': 'As Soon As Possible',\n",
        "    'ATK': 'At The Keyboard',\n",
        "    'ATM': 'At The Moment',\n",
        "    'A3': 'Anytime, Anywhere, Anyplace',\n",
        "    'BAK': 'Back At Keyboard',\n",
        "    'BBL': 'Be Back Later',\n",
        "    'BBS': 'Be Back Soon',\n",
        "    'BFN': 'Bye For Now',\n",
        "    'B4N': 'Bye For Now',\n",
        "    'BRB': 'Be Right Back',\n",
        "    'BRT': 'Be Right There',\n",
        "    'BTW': 'By The Way',\n",
        "    'B4': 'Before',\n",
        "    'CU': 'See You',\n",
        "    'CUL8R': 'See You Later',\n",
        "    'CYA': 'See You',\n",
        "    'FAQ': 'Frequently Asked Questions',\n",
        "    'FC': 'Fingers Crossed',\n",
        "    'FWIW': 'For What It is Worth',\n",
        "    'FYI': 'For Your Information',\n",
        "    'GAL': 'Get A Life',\n",
        "    'GG': 'Good Game',\n",
        "    'GN': 'Good Night',\n",
        "    'GMTA': 'Great Minds Think Alike',\n",
        "    'GR8': 'Great!',\n",
        "    'G9': 'Genius',\n",
        "    'IC': 'I See',\n",
        "    'ICQ': 'I Seek you',\n",
        "    'ILU': 'I Love You',\n",
        "    'IMHO': 'In My Honest Opinion',\n",
        "    'IMO': 'In My Opinion',\n",
        "    'IOW': 'In Other Words',\n",
        "    'IRL': 'In Real Life',\n",
        "    'KISS': 'Keep It Simple, Stupid',\n",
        "    'LDR': 'Long Distance Relationship',\n",
        "    'LMAO': 'Laugh My Ass Off',\n",
        "    'LOL': 'Laughing Out Loud',\n",
        "    'LTNS': 'Long Time No See',\n",
        "    'L8R': 'Later',\n",
        "    'MTE': 'My Thoughts Exactly',\n",
        "    'M8': 'Mate',\n",
        "    'NRN': 'No Reply Necessary',\n",
        "    'OIC': 'Oh I See',\n",
        "    'PITA': 'Pain In The Ass',\n",
        "    'PRT': 'Party',\n",
        "    'PRW': 'Parents Are Watching',\n",
        "    'QPSA': 'Que Pasa?',\n",
        "    'ROFL': 'Rolling On The Floor Laughing',\n",
        "    'ROFLOL': 'Rolling On The Floor Laughing Out Loud',\n",
        "    'ROTFLMAO': 'Rolling On The Floor Laughing My A.. Off',\n",
        "    'SK8': 'Skate',\n",
        "    'STATS': 'Your sex and age',\n",
        "    'ASL': 'Age, Sex, Location',\n",
        "    'THX': 'Thank You',\n",
        "    'TTFN': 'Ta-Ta For Now!',\n",
        "    'TTYL': 'Talk To You Later',\n",
        "    'U': 'You',\n",
        "    'U2': 'You Too',\n",
        "    'U4E': 'Yours For Ever',\n",
        "    'WB': 'Welcome Back',\n",
        "    'WTF': 'What The Fuck',\n",
        "    'WTG': 'Way To Go!',\n",
        "    'WUF': 'Where Are You From?',\n",
        "    'W8': 'Wait',\n",
        "    '7K': 'Sick Laugher',\n",
        "    'TFW': 'That feeling when',\n",
        "    'MFW': 'My face when',\n",
        "    'MRW': 'My reaction when',\n",
        "    'IFYP': 'I feel your pain',\n",
        "    'LOL': 'Laughing out loud',\n",
        "    'TNTL': 'Trying not to laugh',\n",
        "    'JK': 'Just kidding',\n",
        "    'IDC': 'I do not care',\n",
        "    'ILY': 'I love you',\n",
        "    'IMU': 'I miss you',\n",
        "    'ADIH': 'Another day in hell',\n",
        "    'ZZZ': 'Sleeping bored tired',\n",
        "    'WYWH': 'Wish you were here',\n",
        "    'TIME': 'Tears in my eyes',\n",
        "    'BAE': 'Before anyone else',\n",
        "    'FIMH': 'Forever in my heart',\n",
        "    'BSAAW': 'Big smile and a wink',\n",
        "    'BWL': 'Bursting with laughter',\n",
        "    'LMAO': 'Laughing my ass off',\n",
        "    'BFF': 'Best friends forever',\n",
        "    'CSL': 'Can not stop laughing',\n",
        "}\n",
        "\n",
        "def convert_chat(text):\n",
        "  new_text = []\n",
        "  for w in text.split():\n",
        "    if w.upper() in chat_words:\n",
        "      new_text.append(chat_words[w.upper()])\n",
        "    else:\n",
        "      new_text.append(w)\n",
        "  return \" \".join(new_text)\n",
        "\n",
        "df['text'] = df['text'].apply(lambda x: convert_chat(x))"
      ],
      "metadata": {
        "id": "-NwE0FYYm1pw"
      },
      "execution_count": null,
      "outputs": []
    },
    {
      "cell_type": "code",
      "source": [
        "df['text']"
      ],
      "metadata": {
        "id": "1A3HWoDWoeTI",
        "colab": {
          "base_uri": "https://localhost:8080/"
        },
        "outputId": "0c00d18d-b1b0-49fb-8f89-009e637c7d98"
      },
      "execution_count": null,
      "outputs": [
        {
          "output_type": "execute_result",
          "data": {
            "text/plain": [
              "0      How the fu*k! Who the heck! moved my fridge!.....\n",
              "1      So my Indian Uber driver just called someone t...\n",
              "2      @DPD_UK I asked for my parcel to be delivered ...\n",
              "3      so ef whichever butt wipe pulled the fire alar...\n",
              "4      Don't join @BTCare they put the phone down on ...\n",
              "                             ...                        \n",
              "852     rose incense are the best thing I've ever bought\n",
              "853           @jaaames1993 Literally burst out laughing.\n",
              "854             Follow up. Follow through. Be . #success\n",
              "855    Wrinkles should merely hide where frown have b...\n",
              "856    Love the new song I can't stop thinking about ...\n",
              "Name: text, Length: 857, dtype: object"
            ]
          },
          "metadata": {},
          "execution_count": 11
        }
      ]
    },
    {
      "cell_type": "code",
      "source": [
        "#1 Lowercasing\n",
        "\n",
        "df['text'] = df['text'].str.lower()"
      ],
      "metadata": {
        "id": "hqM7EvhffgHg"
      },
      "execution_count": null,
      "outputs": []
    },
    {
      "cell_type": "code",
      "source": [
        "#2 Removing Twitter handles\n",
        "\n",
        "def remove_twitter_handles(text):\n",
        "    return re.sub(r'@[A-Za-z0-9_]+', '', text)\n",
        "\n",
        "df['text'] = df['text'].apply(remove_twitter_handles)"
      ],
      "metadata": {
        "id": "OAud1nvmfqg_"
      },
      "execution_count": null,
      "outputs": []
    },
    {
      "cell_type": "code",
      "source": [
        "df['text']"
      ],
      "metadata": {
        "id": "TUXSApW6GP70",
        "colab": {
          "base_uri": "https://localhost:8080/"
        },
        "outputId": "b5d2bdd9-f765-4ecb-b232-6f4816fa54d5"
      },
      "execution_count": null,
      "outputs": [
        {
          "output_type": "execute_result",
          "data": {
            "text/plain": [
              "0      how the fu*k! who the heck! moved my fridge!.....\n",
              "1      so my indian uber driver just called someone t...\n",
              "2       i asked for my parcel to be delivered to a pi...\n",
              "3      so ef whichever butt wipe pulled the fire alar...\n",
              "4      don't join  they put the phone down on you, ta...\n",
              "                             ...                        \n",
              "852     rose incense are the best thing i've ever bought\n",
              "853                        literally burst out laughing.\n",
              "854             follow up. follow through. be . #success\n",
              "855    wrinkles should merely hide where frown have b...\n",
              "856    love the new song i can't stop thinking about ...\n",
              "Name: text, Length: 857, dtype: object"
            ]
          },
          "metadata": {},
          "execution_count": 14
        }
      ]
    },
    {
      "cell_type": "code",
      "source": [
        "#3 Removing URLs (if any)\n",
        "\n",
        "def remove_url(text):\n",
        "  pattern = re.compile(r'https://\\S+|www\\.\\S+')\n",
        "  return pattern.sub(r'', text)\n",
        "\n",
        "df['text'] = df['text'].apply(lambda x: remove_url(x))"
      ],
      "metadata": {
        "id": "k_W93DzHh2mB"
      },
      "execution_count": null,
      "outputs": []
    },
    {
      "cell_type": "code",
      "source": [
        "#4 Removing HTML Tags (if any)\n",
        "\n",
        "def remove_html(text):\n",
        "\n",
        "  pattern = re.compile('<.*?>')\n",
        "  return pattern.sub(r'', text)\n",
        "df['text'] = df['text'].apply(lambda x: remove_html(x))"
      ],
      "metadata": {
        "id": "V9YU3oTKh7mR"
      },
      "execution_count": null,
      "outputs": []
    },
    {
      "cell_type": "code",
      "source": [
        "#5 Removing Punctuations\n",
        "\n",
        "exclude = string.punctuation\n",
        "\n",
        "def remove_punct1(text):\n",
        "  return text.translate(str.maketrans('', '', exclude))\n",
        "\n",
        "df['text'] = df['text'].apply(lambda x: remove_punct1(str(x)))"
      ],
      "metadata": {
        "id": "MKh2fqASiD09"
      },
      "execution_count": null,
      "outputs": []
    },
    {
      "cell_type": "code",
      "source": [
        "#6 Removing white spaces\n",
        "\n",
        "def preprocess_text(text):\n",
        "    processed_text = text.strip()\n",
        "    processed_text = processed_text.replace(\"  \", \" \")\n",
        "\n",
        "    return processed_text\n",
        "\n",
        "df['text'] = df['text'].apply(lambda x: preprocess_text(str(x)))"
      ],
      "metadata": {
        "collapsed": true,
        "id": "aF9bHfcxBJij"
      },
      "execution_count": null,
      "outputs": []
    },
    {
      "cell_type": "code",
      "source": [
        "#7 Removing Stop words\n",
        "\n",
        "nltk.download('stopwords')\n",
        "\n",
        "from nltk.corpus import stopwords\n",
        "# stopwords.words('english')"
      ],
      "metadata": {
        "id": "uuqvROg-tszG",
        "colab": {
          "base_uri": "https://localhost:8080/"
        },
        "outputId": "84b25f32-b39d-44d8-c411-721a279f3bc3"
      },
      "execution_count": null,
      "outputs": [
        {
          "output_type": "stream",
          "name": "stderr",
          "text": [
            "[nltk_data] Downloading package stopwords to /root/nltk_data...\n",
            "[nltk_data]   Unzipping corpora/stopwords.zip.\n"
          ]
        }
      ]
    },
    {
      "cell_type": "code",
      "source": [
        "def remove_stop_words(text):\n",
        "  new_text = []\n",
        "\n",
        "  for word in text.split():\n",
        "    if word in stopwords.words('english'):\n",
        "      new_text.append('')\n",
        "    else:\n",
        "      new_text.append(word)\n",
        "  x = new_text[:]\n",
        "  new_text.clear()\n",
        "  return \" \".join(x)\n",
        "\n",
        "df['text'] = df['text'].apply(lambda x: remove_stop_words(str(x)))"
      ],
      "metadata": {
        "id": "Nne0OmC9uDdp"
      },
      "execution_count": null,
      "outputs": []
    },
    {
      "cell_type": "code",
      "source": [
        "#8 Performing Tokenization\n",
        "\n",
        "import nltk\n",
        "\n",
        "from nltk.tokenize import word_tokenize, sent_tokenize\n",
        "\n",
        "nltk.download('punkt')\n",
        "\n",
        "word_tokenize((str)(df['text']))"
      ],
      "metadata": {
        "id": "4g0jb4MmC9Ka",
        "colab": {
          "base_uri": "https://localhost:8080/"
        },
        "outputId": "4fec0a2f-7b13-477e-b398-b0300cfa850c"
      },
      "execution_count": null,
      "outputs": [
        {
          "output_type": "stream",
          "name": "stderr",
          "text": [
            "[nltk_data] Downloading package punkt to /root/nltk_data...\n",
            "[nltk_data]   Unzipping tokenizers/punkt.zip.\n"
          ]
        },
        {
          "output_type": "execute_result",
          "data": {
            "text/plain": [
              "['0',\n",
              " 'fuk',\n",
              " 'heck',\n",
              " 'moved',\n",
              " 'fridge',\n",
              " 'knock',\n",
              " 'landlord',\n",
              " 'd',\n",
              " '...',\n",
              " '1',\n",
              " 'indian',\n",
              " 'uber',\n",
              " 'driver',\n",
              " 'called',\n",
              " 'someone',\n",
              " 'n',\n",
              " 'word',\n",
              " '...',\n",
              " '2',\n",
              " 'asked',\n",
              " 'parcel',\n",
              " 'delivered',\n",
              " 'pick',\n",
              " 'store',\n",
              " 'ad',\n",
              " '...',\n",
              " '3',\n",
              " 'ef',\n",
              " 'whichever',\n",
              " 'butt',\n",
              " 'wipe',\n",
              " 'pulled',\n",
              " 'fire',\n",
              " 'alarm',\n",
              " 'da',\n",
              " '...',\n",
              " '4',\n",
              " 'dont',\n",
              " 'join',\n",
              " 'put',\n",
              " 'phone',\n",
              " 'talk',\n",
              " 'rude',\n",
              " 'taking',\n",
              " '...',\n",
              " '...',\n",
              " '852',\n",
              " 'rose',\n",
              " 'incense',\n",
              " 'best',\n",
              " 'thing',\n",
              " 'ive',\n",
              " 'ever',\n",
              " 'bought',\n",
              " '853',\n",
              " 'literally',\n",
              " 'burst',\n",
              " 'laughing',\n",
              " '854',\n",
              " 'follow',\n",
              " 'follow',\n",
              " 'success',\n",
              " '855',\n",
              " 'wrinkles',\n",
              " 'merely',\n",
              " 'hide',\n",
              " 'frown',\n",
              " 'mark',\n",
              " 'twain',\n",
              " '856',\n",
              " 'love',\n",
              " 'new',\n",
              " 'song',\n",
              " 'cant',\n",
              " 'stop',\n",
              " 'thinking',\n",
              " 'Name',\n",
              " ':',\n",
              " 'text',\n",
              " ',',\n",
              " 'Length',\n",
              " ':',\n",
              " '857',\n",
              " ',',\n",
              " 'dtype',\n",
              " ':',\n",
              " 'object']"
            ]
          },
          "metadata": {},
          "execution_count": 21
        }
      ]
    },
    {
      "cell_type": "code",
      "source": [
        "#8 POS Tagging\n",
        "\n",
        "dict1 = spacy.load('en_core_web_sm')\n",
        "doc = dict1((str)(df['text']))"
      ],
      "metadata": {
        "id": "fc2-9hjRC9Hn"
      },
      "execution_count": null,
      "outputs": []
    },
    {
      "cell_type": "code",
      "source": [
        "for word in doc:\n",
        "  print(word.text, \"------>\", word.pos_, word.tag_, spacy.explain(word.tag_))"
      ],
      "metadata": {
        "id": "5HBdyoVB7Pr6",
        "colab": {
          "base_uri": "https://localhost:8080/"
        },
        "outputId": "6804ae0d-9284-4aba-e436-ff125fd7c55f"
      },
      "execution_count": null,
      "outputs": [
        {
          "output_type": "stream",
          "name": "stdout",
          "text": [
            "0 ------> NUM CD cardinal number\n",
            "        ------> SPACE _SP whitespace\n",
            "fuk ------> NOUN NN noun, singular or mass\n",
            "   ------> SPACE _SP whitespace\n",
            "heck ------> NOUN NN noun, singular or mass\n",
            "moved ------> VERB VBD verb, past tense\n",
            "  ------> SPACE _SP whitespace\n",
            "fridge ------> NOUN NN noun, singular or mass\n",
            "   ------> SPACE _SP whitespace\n",
            "knock ------> VERB VBP verb, non-3rd person singular present\n",
            "  ------> SPACE _SP whitespace\n",
            "landlord ------> NOUN NN noun, singular or mass\n",
            "d ------> X LS list item marker\n",
            "... ------> PUNCT : punctuation mark, colon or ellipsis\n",
            "\n",
            " ------> SPACE _SP whitespace\n",
            "1 ------> NUM CD cardinal number\n",
            "        ------> SPACE _SP whitespace\n",
            "indian ------> ADJ JJ adjective (English), other noun-modifier (Chinese)\n",
            "uber ------> NOUN NN noun, singular or mass\n",
            "driver ------> NOUN NN noun, singular or mass\n",
            "  ------> SPACE _SP whitespace\n",
            "called ------> VERB VBD verb, past tense\n",
            "someone ------> PRON NN noun, singular or mass\n",
            "  ------> SPACE _SP whitespace\n",
            "n ------> NOUN NN noun, singular or mass\n",
            "word ------> NOUN NN noun, singular or mass\n",
            "  ------> SPACE _SP whitespace\n",
            "... ------> PUNCT : punctuation mark, colon or ellipsis\n",
            "\n",
            " ------> SPACE _SP whitespace\n",
            "2 ------> NUM CD cardinal number\n",
            "       ------> SPACE _SP whitespace\n",
            "asked ------> VERB VBN verb, past participle\n",
            "   ------> SPACE _SP whitespace\n",
            "parcel ------> NOUN NN noun, singular or mass\n",
            "   ------> SPACE _SP whitespace\n",
            "delivered ------> VERB VBN verb, past participle\n",
            "   ------> SPACE _SP whitespace\n",
            "pick ------> VERB VB verb, base form\n",
            "  ------> SPACE _SP whitespace\n",
            "store ------> NOUN NN noun, singular or mass\n",
            "   ------> SPACE _SP whitespace\n",
            "ad ------> NOUN NN noun, singular or mass\n",
            "... ------> PUNCT : punctuation mark, colon or ellipsis\n",
            "\n",
            " ------> SPACE _SP whitespace\n",
            "3 ------> NUM CD cardinal number\n",
            "       ------> SPACE _SP whitespace\n",
            "ef ------> NOUN NN noun, singular or mass\n",
            "whichever ------> DET WDT wh-determiner\n",
            "butt ------> NOUN NN noun, singular or mass\n",
            "wipe ------> NOUN NN noun, singular or mass\n",
            "pulled ------> VERB VBD verb, past tense\n",
            "  ------> SPACE _SP whitespace\n",
            "fire ------> NOUN NN noun, singular or mass\n",
            "alarm ------> NOUN NN noun, singular or mass\n",
            "  ------> SPACE _SP whitespace\n",
            "da ------> PROPN NNP noun, proper singular\n",
            "... ------> PUNCT : punctuation mark, colon or ellipsis\n",
            "\n",
            " ------> SPACE _SP whitespace\n",
            "4 ------> NUM CD cardinal number\n",
            "      ------> SPACE _SP whitespace\n",
            "do ------> AUX VBP verb, non-3rd person singular present\n",
            "nt ------> PART RB adverb\n",
            "join ------> VERB VB verb, base form\n",
            "  ------> SPACE _SP whitespace\n",
            "put ------> VERB VBN verb, past participle\n",
            "  ------> SPACE _SP whitespace\n",
            "phone ------> NOUN NN noun, singular or mass\n",
            "    ------> SPACE _SP whitespace\n",
            "talk ------> NOUN NN noun, singular or mass\n",
            "     ------> SPACE _SP whitespace\n",
            "rude ------> ADJ JJ adjective (English), other noun-modifier (Chinese)\n",
            "taking ------> NOUN NN noun, singular or mass\n",
            "... ------> PUNCT : punctuation mark, colon or ellipsis\n",
            "\n",
            "                              ------> SPACE _SP whitespace\n",
            "... ------> PUNCT : punctuation mark, colon or ellipsis\n",
            "                       \n",
            " ------> SPACE _SP whitespace\n",
            "852 ------> NUM CD cardinal number\n",
            "            ------> SPACE _SP whitespace\n",
            "rose ------> VERB VBD verb, past tense\n",
            "incense ------> NOUN NN noun, singular or mass\n",
            "   ------> SPACE _SP whitespace\n",
            "best ------> ADJ JJS adjective, superlative\n",
            "thing ------> NOUN NN noun, singular or mass\n",
            "i ------> PRON PRP pronoun, personal\n",
            "ve ------> AUX VBP verb, non-3rd person singular present\n",
            "ever ------> ADV RB adverb\n",
            "bought ------> VERB VBN verb, past participle\n",
            "\n",
            " ------> SPACE _SP whitespace\n",
            "853 ------> NUM CD cardinal number\n",
            "                            ------> SPACE _SP whitespace\n",
            "literally ------> ADV RB adverb\n",
            "burst ------> VERB VBG verb, gerund or present participle\n",
            "  ------> SPACE _SP whitespace\n",
            "laughing ------> VERB VBG verb, gerund or present participle\n",
            "\n",
            " ------> SPACE _SP whitespace\n",
            "854 ------> NUM CD cardinal number\n",
            "                             ------> SPACE _SP whitespace\n",
            "follow ------> NOUN NN noun, singular or mass\n",
            "  ------> SPACE _SP whitespace\n",
            "follow ------> NOUN NN noun, singular or mass\n",
            "   ------> SPACE _SP whitespace\n",
            "success ------> NOUN NN noun, singular or mass\n",
            "\n",
            " ------> SPACE _SP whitespace\n",
            "855 ------> NUM CD cardinal number\n",
            "            ------> SPACE _SP whitespace\n",
            "wrinkles ------> NOUN NNS noun, plural\n",
            "  ------> SPACE _SP whitespace\n",
            "merely ------> ADV RB adverb\n",
            "hide ------> VERB VBP verb, non-3rd person singular present\n",
            "  ------> SPACE _SP whitespace\n",
            "frown ------> VERB VBN verb, past participle\n",
            "   ------> SPACE _SP whitespace\n",
            "mark ------> NOUN NN noun, singular or mass\n",
            "twain ------> VERB VBN verb, past participle\n",
            "\n",
            " ------> SPACE _SP whitespace\n",
            "856 ------> NUM CD cardinal number\n",
            "                ------> SPACE _SP whitespace\n",
            "love ------> VERB VB verb, base form\n",
            "  ------> SPACE _SP whitespace\n",
            "new ------> ADJ JJ adjective (English), other noun-modifier (Chinese)\n",
            "song ------> NOUN NN noun, singular or mass\n",
            "  ------> SPACE _SP whitespace\n",
            "ca ------> AUX MD verb, modal auxiliary\n",
            "nt ------> PART RB adverb\n",
            "stop ------> VERB VB verb, base form\n",
            "thinking ------> VERB VBG verb, gerund or present participle\n",
            "  \n",
            " ------> SPACE _SP whitespace\n",
            "Name ------> NOUN NN noun, singular or mass\n",
            ": ------> PUNCT : punctuation mark, colon or ellipsis\n",
            "text ------> NOUN NN noun, singular or mass\n",
            ", ------> PUNCT , punctuation mark, comma\n",
            "Length ------> PROPN NNP noun, proper singular\n",
            ": ------> PUNCT : punctuation mark, colon or ellipsis\n",
            "857 ------> NUM CD cardinal number\n",
            ", ------> PUNCT , punctuation mark, comma\n",
            "dtype ------> NOUN NN noun, singular or mass\n",
            ": ------> PUNCT : punctuation mark, colon or ellipsis\n",
            "object ------> NOUN NN noun, singular or mass\n"
          ]
        }
      ]
    },
    {
      "cell_type": "code",
      "source": [
        "df['text']"
      ],
      "metadata": {
        "id": "iiHJFOvmNzFw",
        "colab": {
          "base_uri": "https://localhost:8080/"
        },
        "outputId": "f96d4671-52b5-4b19-d325-27ab1dac0900"
      },
      "execution_count": null,
      "outputs": [
        {
          "output_type": "execute_result",
          "data": {
            "text/plain": [
              "0        fuk   heck moved  fridge   knock  landlord d...\n",
              "1        indian uber driver  called someone  n word  ...\n",
              "2       asked   parcel   delivered   pick  store   ad...\n",
              "3       ef whichever butt wipe pulled  fire alarm  da...\n",
              "4      dont join  put  phone    talk     rude taking ...\n",
              "                             ...                        \n",
              "852            rose incense   best thing ive ever bought\n",
              "853                            literally burst  laughing\n",
              "854                             follow  follow   success\n",
              "855            wrinkles  merely hide  frown   mark twain\n",
              "856                love  new song  cant stop thinking   \n",
              "Name: text, Length: 857, dtype: object"
            ]
          },
          "metadata": {},
          "execution_count": 24
        }
      ]
    },
    {
      "cell_type": "markdown",
      "source": [
        "Statistical Model"
      ],
      "metadata": {
        "id": "NyWs7Jul2pbU"
      }
    },
    {
      "cell_type": "code",
      "source": [
        "import sklearn\n",
        "\n",
        "from sklearn.feature_extraction.text import CountVectorizer\n",
        "cv = CountVectorizer() #ngram_range = ... for n-grams\n",
        "\n",
        "bow = cv.fit_transform(df['text'])"
      ],
      "metadata": {
        "id": "zZ_M3dHG1Mzk"
      },
      "execution_count": null,
      "outputs": []
    },
    {
      "cell_type": "code",
      "source": [
        "print(cv.vocabulary_)"
      ],
      "metadata": {
        "id": "I1qm_PvX29jH",
        "colab": {
          "base_uri": "https://localhost:8080/"
        },
        "outputId": "f9239cec-b805-489a-bcfa-216e88b3e3a8"
      },
      "execution_count": null,
      "outputs": [
        {
          "output_type": "stream",
          "name": "stdout",
          "text": [
            "{'fuk': 1023, 'heck': 1190, 'moved': 1683, 'fridge': 1007, 'knock': 1425, 'landlord': 1442, 'door': 740, 'angry': 159, 'mad': 1564, 'indian': 1294, 'uber': 2662, 'driver': 759, 'called': 418, 'someone': 2342, 'word': 2847, 'wasnt': 2766, 'moving': 1685, 'vehicle': 2710, 'id': 1261, 'jumped': 1385, 'disgusted': 720, 'asked': 205, 'parcel': 1840, 'delivered': 677, 'pick': 1881, 'store': 2406, 'address': 92, 'fuming': 1029, 'poorcustomerservice': 1926, 'ef': 787, 'whichever': 2810, 'butt': 403, 'wipe': 2828, 'pulled': 2009, 'fire': 944, 'alarm': 119, 'davis': 657, 'bc': 267, 'sound': 2356, 'asleep': 207, 'pissed': 1892, 'upset': 2691, 'tired': 2581, 'sad': 2165, 'hangry': 1156, 'dont': 738, 'join': 1370, 'put': 2019, 'phone': 1876, 'talk': 2485, 'rude': 2152, 'taking': 2484, 'money': 1668, 'acc': 68, 'willynilly': 2822, 'blood': 327, 'boiling': 337, 'youve': 2911, 'still': 2399, 'got': 1096, 'whole': 2814, 'season': 2212, 'wentworth': 2796, 'watch': 2771, 'stupid': 2433, 'cunt': 632, 'work': 2850, 'ruins': 2156, 'us': 2695, 'ðÿ': 2926, 'raging': 2047, 'oldcunt': 1797, 'tracking': 2613, 'show': 2268, 'equipment': 820, 'service': 2235, 'suddenly': 2443, 'delayed': 674, 'weve': 2800, 'already': 134, 'weeks': 2787, 'legit': 1467, 'furious': 1033, 'people': 1860, 'fucking': 1021, 'idiots': 1264, 'suppose': 2455, 'fuck': 1017, 'dude': 769, 'thanks': 2529, 'pissing': 1893, 'im': 1274, 'power': 1943, 'rangers': 2054, 'incensed': 1286, 'wont': 2846, 'use': 2697, 'using': 2700, 'guys': 1136, 'cant': 433, 'get': 1062, 'nothing': 1764, 'right': 2129, 'bitches': 310, 'aggravate': 108, 'like': 1485, 'inspires': 1312, 'biggest': 303, 'known': 1430, 'man': 1583, 'kind': 1414, 'come': 534, 'glasgow': 1076, 'night': 1739, 'working': 2851, 'gutted': 1134, 'waiting': 2749, 'appearance': 185, 'ages': 107, 'fuking': 1024, 'zero': 2916, 'help': 1199, 'customer': 641, 'pushing': 2018, 'buck': 381, 'back': 229, 'forth': 991, 'promising': 1982, 'callbacks': 417, 'donâ': 739, 'happen': 1158, 'anger': 155, 'loathing': 1516, 'mention': 1625, 'gra': 1101, 'guy': 1135, 'stops': 2405, 'lets': 1475, 'ppl': 1944, 'front': 1011, 'go': 1079, 'wtf': 2878, 'hate': 1172, 'lawn': 1455, 'mower': 1686, 'soul': 2355, 'condemn': 553, 'fiery': 932, 'pits': 1894, 'hell': 1195, 'offended': 1784, 'kendall': 1399, 'ends': 808, 'photo': 1878, 'shoot': 2260, 'seriously': 2233, 'shut': 2273, 'block': 323, 'everyone': 838, 'everywhere': 840, 'posting': 1938, 'storm': 2410, 'think': 2545, 'aware': 223, 'damn': 647, 'rain': 2050, 'quit': 2032, 'making': 1580, 'buddy': 382, 'cry': 620, 'bitch': 309, 'wait': 2747, 'revenge': 2121, 'œðÿ': 2932, 'bes': 290, 'tell': 2510, 'true': 2633, 'blooded': 328, 'hoopjunkie': 1232, 'switch': 2472, 'fc': 911, 'team': 2504, 'juz': 1391, 'destroyed': 691, 'insult': 1315, 'response': 2114, 'irate': 1330, 'amazon': 139, 'žðÿ': 2935, 'žnwhy': 2934, 'understand': 2679, 'always': 136, 'faultncarrierfault': 903, 'tasers': 2494, 'immobilize': 1280, 'taser': 2493, 'need': 1715, 'one': 1801, 'second': 2214, 'later': 1448, 'really': 2075, 'sick': 2275, 'rage': 2046, 'murder': 1691, 'way': 2776, 'little': 1506, 'bastards': 257, 'actually': 88, 'wear': 2781, 'saturday': 2184, 'straight': 2412, 'even': 833, 'arse': 196, 'means': 1608, 'threesome': 2557, 'fine': 942, 'bloody': 330, 'parking': 1842, 'ticket': 2567, 'ever': 835, 'find': 940, 'around': 193, 'irritate': 1333, 'sometimes': 2345, 'thats': 2531, 'know': 1427, 'stop': 2403, 'sign': 2278, 'francis': 1001, 'foster': 995, 'road': 2138, 'inside': 1311, 'gonna': 1090, 'good': 1091, 'let': 1472, 'wow': 2866, 'bill': 304, '4477': 38, 'hav': 1177, 'text': 2526, 'prove': 1993, 'taken': 2482, '148': 13, 'swines': 2471, 'con': 549, 'blame': 316, 'natalie': 1707, 'would': 2863, 'different': 703, 'turned': 2646, 'alliance': 128, 'since': 2288, 'update': 2690, 'loses': 1537, 'nearly': 1714, '40': 37, 'faster': 898, 'fly': 968, 'fit': 953, 'fair': 882, 'unbelievable': 2676, 'takes': 2483, '10': 1, 'minutes': 1649, 'theres': 2536, 'fault': 902, 'call': 416, 'hangs': 1157, 'treatcustomersfairly': 2624, 'blaming': 318, 'putting': 2021, 'world': 2852, 'middle': 1638, 'tantrums': 2488, 'infuriate': 1301, 'mine': 1647, 'party': 1846, 'decide': 665, 'slowly': 2315, 'transformed': 2618, 'vengeful': 2711, 'hellcult': 1196, 'white': 2813, 'male': 1581, 'resentment': 2111, 'order': 1813, 'months': 1670, 'ago': 112, 'placed': 1898, '500': 41, 'card': 436, 'billed': 305, 'never': 1724, 'received': 2078, 'ndisappointing': 1713, 'log': 1517, 'snapchatsnapchat': 2326, 'snap': 2324, 'sam': 2174, 'yes': 2897, 'helpful': 1200, 'sorting': 2354, 'asap': 202, 'keep': 1393, 'stuff': 2431, 'doesnt': 727, 'snakes': 2323, 'house': 1239, 'bet': 296, 'kill': 1409, 'bugger': 384, 'hands': 1154, 'huckfp2': 1243, 'feel': 918, 'mexican': 1632, 'ladies': 1438, 'outta': 1825, 'lil': 1490, 'preschool': 1955, 'kids': 1406, 'welfare': 2792, 'amp': 147, 'allllat': 129, 'smh': 2317, 'snapchat': 2325, 'bitter': 312, 'mf': 1633, 'fuckin': 1020, 'cruel': 618, 'therewillbeblood': 2537, 'ur': 2694, 'literally': 1505, 'amount': 146, 'greedy': 1108, 'mooching': 1671, 'makes': 1578, 'snarl': 2328, 'mind': 1643, 'want': 2757, 'end': 807, 'absolutely': 63, 'woman': 2840, 'prebooked': 1953, 'taxi': 2499, 'drove': 764, 'hateful': 1173, 'fag': 880, 'something': 2344, 'needs': 1717, 'done': 737, 'hogging': 1218, 'machines': 1562, 'nobody': 1750, 'time': 2576, 'notfair': 1762, 'whypay': 2816, 'ikr': 1270, 'grudge': 1123, 'reason': 2076, 'said': 2172, 'talking': 2486, 'wills': 2821, 'uncontrollable': 2678, 'animals': 162, 'another': 170, 'link': 1497, 'comments': 540, 'bad': 232, 'news': 1728, 'ordered': 1814, 'online': 1804, 'hasnt': 1170, 'gone': 1089, 'happened': 1159, 'wanna': 2756, 'cryðÿ': 625, 'ooooooooh': 1805, 'god': 1082, 'uuuugggghhhhhhhhh': 2705, 'boycotting': 351, 'till': 2575, 'butter': 404, 'pecan': 1858, 'comes': 536, '2016': 20, 'black': 313, 'fighting': 935, 'recognized': 2081, 'human': 1249, 'beings': 285, 'cantsleep': 434, 'mom': 1665, 'cut': 642, 'thing': 2543, 'feed': 915, 'naay': 1698, 'brother': 374, 'filling': 937, 'gaps': 1043, 'believe': 286, 'achilles': 80, 'killed': 1410, 'lost': 1540, 'couple': 595, 'niggas': 1738, 'coach': 527, 'poor': 1925, 'packaging': 1830, 'fulfilled': 1025, 'seller': 2226, 'much': 1688, 'wheres': 2808, 'outrage': 1823, 'kills': 1413, 'streets': 2417, 'jesus': 1362, 'calling': 420, 'hajime': 1147, 'abusive': 67, 'strawmen': 2414, 'laughing': 1452, 'ass': 208, 'ive': 1347, 'scratched': 2204, 'car': 435, 'holy': 1224, 'shit': 2254, 'bee': 278, 'sting': 2400, 'youre': 2907, 'dying': 775, 'dislike': 722, 'littlest': 1507, 'supposed': 2456, 'lunch': 1555, 'dinner': 707, 'day5': 659, 'person': 1865, '13': 9, 'buses': 397, 'unreliable': 2688, 'app': 182, 'unable': 2672, 'two': 2657, 'late': 1447, 'useless': 2699, 'reply': 2107, 'liberal': 1481, 'king': 1417, 'saying': 2188, 'nword': 1777, 'angers': 156, 'yuppie': 2913, 'progressives': 1976, 'shame': 2245, 'blacks': 315, 'paid': 1832, 'chicken': 489, 'didnt': 700, 'goes': 1085, 'dollars': 732, 'mistake': 1657, 'half': 1148, 'assed': 209, 'excuse': 849, 'burning': 393, 'forever': 981, 'years': 2890, 'irrelevant': 1332, 'absolute': 62, 'joke': 1372, 'manutd': 1585, 'ticketing': 2568, 'noloyalty': 1753, 'notimpressed': 1765, 'part': 1844, '2was': 28, 'buzzing': 408, 'cheeky': 483, 'squashie': 2374, 'twothis': 2658, 'expectedsort': 856, 'food': 977, 'fucked': 1018, 'coupon': 596, 'goal': 1080, 'lvg': 1557, 'bribed': 362, 'refs': 2090, 'utd': 2703, 'personal': 1866, 'foul': 996, 'prick': 1962, 'clown': 524, 'scared': 2193, 'shitless': 2255, 'room': 2145, 'worst': 2860, 'juror': 1386, 'michelle': 1637, 'nicoles': 1736, 'threat': 2555, 'bb18': 264, 'twitter': 2656, 'picture': 1883, 'fume': 1028, 'madden': 1565, 'career': 438, 'game': 1038, 'sucks': 2441, 'ea': 776, 'sports': 2370, 'piss': 1891, 'job': 1366, 'every': 836, 'year': 2889, 'ha': 1138, 'san': 2175, 'jose': 1378, 'ca': 412, 'dave': 656, 'walk': 2751, 'next': 1729, 'wonder': 2844, 'american': 142, 'city': 507, 'protest': 1991, 'police': 1920, 'shootings': 2262, 'whos': 2815, 'whenwillitstop': 2806, 'howmanymoretimes': 1241, 'wee': 2784, 'pop': 1927, 'socks': 2334, 'falling': 889, 'shoes': 2258, 'majority': 1575, 'cba': 453, 'ahahah': 114, 'multimillionaire': 1689, 'spoiled': 2369, 'brat': 356, 'gets': 1063, 'self': 2223, 'righteous': 2130, 'huff': 1246, 'friend': 1008, 'muslim': 1693, 'non': 1755, 'starter': 2385, 'bye': 410, 'provoke': 1997, 'complain': 544, 'tears': 2509, 'eyes': 873, 'see': 2216, 'rile': 2131, 'stfuuu': 2395, 'bloods': 329, 'leave': 1463, 'rulenimber': 2157, 'carpet': 441, 'cleaning': 514, 'worsethananatomicbomb': 2858, 'accidentlyspillbeeronthecarpet': 74, 'wallah': 2754, 'take': 2481, 'nap': 1704, 'ugh': 2664, 'swear': 2467, 'blocks': 324, 'going': 1086, 'hit': 1214, 'student': 2429, 'racist': 2042, 'teacher': 2502, 'stopping': 2404, 'class': 511, 'letting': 1477, 'ball': 237, 'today': 2583, 'due': 771, 'best': 292, 'friends': 1009, 'telling': 2511, 'wife': 2818, 'getting': 1064, 'iphones': 1329, 'losing': 1539, 'eta': 829, 'turning': 2647, 'surprised': 2461, 'officersshould': 1787, 'without': 2836, 'provocation': 1996, 'wrongnn': 2875, 'flat': 957, 'instantly': 1313, 'bollocked': 338, 'add': 90, 'resent': 2110, 'affront': 101, 'justice': 1387, 'system': 2477, 'ummm': 2671, 'blog': 325, 'says': 2189, 'simon': 2283, 'stehr': 2390, 'faking': 887, '7thill': 52, 'expect': 854, 'investigation': 1325, 'forthwith': 992, 'armed': 189, 'thug': 2563, 'record': 2083, 'carrying': 442, 'gun': 1133, 'illegally': 1272, 'shot': 2264, 'cop': 578, 'jokelet': 1373, 'em': 800, 'destroy': 690, 'town': 2610, 'wakes': 2750, 'tried': 2626, 'changing': 466, 'nappy': 1705, 'šðÿ': 2933, 'candice': 427, 'shell': 2248, 'stuck': 2428, 'shitty': 2257, 'pout': 1942, 'wind': 2824, 'changes': 465, 'gbbo': 1052, 'turn': 2645, 'home': 1225, 'button': 405, 'accessibility': 73, 'nnwhen': 1749, 'innovation': 1309, 'become': 274, 'fuckery': 1019, 'iphonephonehome': 1328, 'love': 1545, 'make': 1576, 'plans': 1902, 'including': 1289, 'process': 1973, 'remove': 2103, 'ideologically': 1263, 'bankrupt': 244, 'opportunistic': 1810, 'establishment': 828, 'theyre': 2539, 'bridges': 363, 'social': 2332, 'contracts': 568, 'nominated': 1754, 'lying': 1559, 'corrupt': 587, 'donations': 736, 'nations': 1709, 'support': 2453, 'terror': 2521, 'forget': 983, 'fave': 905, 'child': 490, 'school': 2197, 'inch': 1288, 'thick': 2540, 'made': 1567, 'masks': 1591, 'top': 2600, 'three': 2556, 'favorites': 907, 'toofaced': 2597, 'democrats': 678, 'voters': 2742, 'tolerance': 2590, 'honesty': 1229, 'associate': 212, 'crookedcourt': 615, 'many': 1586, 'times': 2577, 'explain': 860, 'away': 225, 'brutal': 378, 'killings': 1412, 'petits': 1872, 'hayes': 1178, 'komisarjevsky': 1432, 'towhy': 2609, 'brothers': 376, 'protect': 1988, 'ones': 1803, 'serious': 2232, 'misled': 1654, 'fred': 1003, 'mayfield': 1604, 'breaking': 358, 'loose': 1532, 'charlotte': 474, 'charlotteprotest': 475, 'looting': 1533, 'bpharm4': 353, 'eish': 791, 'brings': 366, 'life': 1483, 'nje': 1745, 'darkness': 650, 'fills': 938, 'hour': 1237, 'football': 979, 'practice': 1946, 'sun': 2452, '2hr': 25, 'volleyball': 2741, 'testing': 2524, 'artefact': 198, 'points': 1917, 'fury': 1035, 'raid': 2048, 'wasted': 2768, 'month': 1669, 'blizzard': 321, 'travel': 2621, '700': 50, 'miles': 1642, 'form': 989, 'arrives': 194, 'post': 1936, 'days': 660, 'congratulations': 558, 'free': 1004, 'activated': 86, 'charges': 472, '3480': 32, 'hath': 1175, 'women': 2842, 'scorned': 2201, 'affair': 100, 'parenting': 1841, 'canoodling': 432, 'quad': 2024, 'definitely': 673, 'irritation': 1334, 'lord': 1534, 'give': 1072, 'strength': 2418, 'chelsea': 485, 'anything': 177, 'possible': 1935, 'haha': 1142, 'break': 357, 'wish': 2832, 'say': 2187, 'rush': 2162, 'broke': 371, 'shutupphilsimms': 2274, 'apparently': 183, 'contact': 566, 'sofas': 2335, 'meant': 1609, 'old': 1796, 'sitting': 2301, 'floor': 965, '1000': 3, 'rabid': 2038, 'grizzly': 1113, 'bears': 270, 'scatter': 2194, 'neighborhoods': 1719, 'americanntheyre': 143, 'refugeesnninyourneighborhoodnotdc': 2091, 'blm': 322, 'thugs': 2564, 'gang': 1042, 'crime': 613, 'racism': 2041, 'ill': 1271, 'honest': 1227, 'hope': 1233, 'annoying': 168, 'southern': 2358, 'bint': 306, 'look': 1526, 'week': 2785, 'selasi': 2222, 'ftw': 1016, 'hes': 1203, 'loud': 1543, 'internet': 1322, 'early': 777, 'reinstate': 2094, 'longer': 1524, 'engineer': 810, 'yeah': 2888, 'currently': 638, 'appealing': 184, 'member': 1622, 'long': 1523, 'men': 1623, 'strike': 2421, 'emotions': 805, 'negative': 1718, 'positive': 1933, 'martial': 1590, 'arts': 201, 'control': 569, '47': 40, 'unarmed': 2673, 'cops': 580, '2015': 19, 'die': 701, 'chicago': 488, 'nerves': 1721, 'fist': 951, 'laptops': 1444, 'screen': 2206, 'new': 1726, 'hp': 1242, 'maybe': 1603, 'also': 135, 'attacked': 218, 'toms': 2593, 'fans': 894, 'clothes': 523, 'perfect': 1862, 'dear': 663, 'future': 1036, 'big': 301, 'players': 1906, 'chase': 476, 'dick': 699, 'win': 2823, '50000': 42, 'sti': 2396, 'street': 2416, 'terrifying': 2519, 'innocent': 1308, 'citizens': 506, 'either': 792, 'nothappy': 1763, 'charging': 473, 'fullprice': 1026, 'bestrides': 294, '³ðÿ': 2920, 'forgot': 988, 'eat': 782, 'everything': 839, 'girl': 1069, 'chewing': 487, 'gum': 1132, 'cow': 603, 'ready': 2069, 'nonsensical': 1758, 'injustice': 1304, 'destroying': 692, 'property': 1985, 'misdirected': 1652, 'priority': 1965, 'list': 1500, 'things': 2544, 'outraged': 1824, 'animalrights': 161, 'abortion': 61, 'boy': 350, 'run': 2160, 'drag': 745, 'routes': 2149, 'fever': 931, 'highsni': 1209, 'temperament': 2513, 'hissyfits': 1212, 'doggies': 729, 'barracking': 250, 'anyone': 175, 'gws': 1137, 'calls': 421, 'cuck': 627, 'antiblm': 171, 'idea': 1262, 'might': 1640, 'propolicing': 1986, 'reform': 2089, 'amazing': 138, 'unhappy': 2683, 'easily': 779, 'shameful': 2246, 'display': 723, 'watched': 2772, 'left': 1465, 'reeling': 2086, 'dt': 768, 'exploding': 861, 'clowns': 525, 'epicenter': 816, 'yall': 2885, 'burst': 395, 'terrible': 2517, 'keithlamontscott': 1397, 'giving': 1074, 'better': 297, 'wrath': 2868, 'winter': 2827, 'nowhere': 1768, 'though': 2549, 'offend': 1783, 'americans': 144, 'monalisa': 1667, 'respect': 2113, 'ruffle': 2154, 'feathers': 914, 'thejail': 2533, 'thought': 2550, 'xbox': 2882, 'bundle': 390, 'physical': 1879, 'copy': 581, 'codeðÿ': 530, 'download': 743, 'satan': 2181, 'test': 2523, 'becouse': 276, 'cleanse': 515, 'christamen': 500, 'emoji': 803, 'ios10': 1327, 'enough': 812, 'towards': 2608, 'number': 1775, 'jealous': 1356, 'baby': 228, 'gladsheisgone': 1075, 'crybaby': 621, 'knows': 1431, 'victims': 2721, 'based': 254, 'media': 1612, 'gh': 1065, 'ruined': 2155, 'molly': 1664, 'morgans': 1676, 'bondfriendship': 340, 'spurs': 2373, 'radio': 2045, 'commentator': 539, 'referred': 2088, 'mauricio': 1600, 'pochettino': 1913, 'mopo': 1674, 'felt': 927, 'sudden': 2442, 'surge': 2460, 'huh': 1247, 'sprint': 2372, 'slowest': 2314, 'comp': 542, 'robbing': 2141, 'living': 1510, 'backtoreality': 231, 'wedding': 2783, 'general': 1057, 'stupidity': 2434, 'certain': 461, 'my': 1696, 'grabbed': 1102, 'aggressive': 110, 'manner': 1584, 'threw': 2558, 'kid': 1404, 'knowing': 1428, 'express': 863, 'assure': 216, 'laughter': 1453, 'increasing': 1290, 'costs': 591, 'arrogance': 195, 'westminster': 2798, 'escapeescape': 822, 'whatthis': 2804, 'corrupted': 588, 'worldthis': 2853, 'reality': 2072, 'jokethis': 1376, 'constant': 563, 'pain': 1833, 'stresswe': 2419, 'vacation': 2706, 'cause': 450, 'politics': 1924, 'nowadays': 1766, 'oh': 1793, 'air': 115, 'oregonbaylor': 1815, 'offense': 1785, 'fan': 892, 'ole': 1798, 'miss': 1655, 'verification': 2714, 'email': 801, 'justification': 1388, 'shooting': 2261, 'history': 1213, 'genuinely': 1059, 'issues': 1341, 'honestly': 1228, 'bb': 263, 'bbfinale': 266, 'annoyedsad': 167, 'youtube': 2909, 'ground': 1116, 'happy': 1164, 'anniversary': 165, 'ampalaya': 148, 'paitpaitanangpeg': 1834, '5live': 44, 'cancelled': 425, 'programs': 1975, 'allow': 131, 'extend': 867, '606': 46, 'could': 593, 'detail': 693, 'behaviour': 283, 'rudely': 2153, 'hair': 1144, 'inner': 1305, 'feminist': 928, 'tries': 2627, 'cas': 444, 'girls': 1070, 'figure': 936, '100': 2, 'real': 2070, 'quick': 2030, 'listen': 1501, 'yh': 2901, 'cos': 590, 'pizzas': 1896, 'fail': 881, 'hungry': 1252, 'rape': 2057, 'apologists': 180, 'inadvertently': 1284, 'mindless': 1645, 'beasts': 271, 'looking': 1529, 'typical': 2660, 'looney': 1531, 'toon': 2599, 'thinking': 2546, 'hillary': 1211, 'divide': 726, 'chaos': 467, 'sex': 2240, 'happens': 1161, 'across': 83, 'races': 2039, 'cultures': 631, 'creeds': 611, 'castrated': 447, 'prudence': 1999, 'suggests': 2447, 'bump': 389, '23': 24, 'viewed': 2724, 'skepticism': 2305, 'mediahrc': 1613, 'axis': 227, 'dog': 728, 'ridden': 2128, 'eaten': 783, 'flesh': 960, 'fellow': 926, 'limbs': 1493, 'adults': 98, 'attacking': 219, 'hating': 1176, 'worse': 2857, 'behavior': 282, 'detest': 695, 'delete': 675, 'josh': 1379, 'screenshotted': 2208, 'spitting': 2368, 'venom': 2712, 'stripe': 2422, 'yelling': 2894, 'porch': 1931, 'greys': 1110, 'anatomy': 152, 'shonda': 2259, 'rimes': 2132, 'og': 1792, 'characterâ': 470, '¹ï': 2921, 'truth': 2639, 'savage': 2185, 'uhoh': 2668, 'loved': 1546, 'may': 1602, 'case': 445, 'unavoidable': 2675, 'excitement': 848, 'sin': 2286, 'albertbarnes': 121, 'begin': 280, 'describe': 683, 'demons': 679, 'ðÿœ': 2927, 'ðÿœš': 2928, 'meanwhile': 1610, 'killing': 1411, 'less': 1470, 'strange': 2413, 'society': 2333, 'must': 1694, 'draw': 749, 'hat': 1171, 'daily': 646, 'personality': 1867, 'drugged': 765, 'yeller': 2893, 'quiet': 2031, 'screamer': 2205, 'heading': 1181, 'grass': 1104, 'heat': 1186, 'somewhere': 2346, 'conditioned': 554, 'adultingistheworst': 97, 'specific': 2364, 'intentional': 1320, 'intention': 1319, 'conversation': 573, 'systemic': 2478, 'gave': 1048, 'kendrick': 1400, 'lamar': 1440, 'barbecue': 246, 'sorry': 2352, 'drone': 761, 'flew': 961, 'hashtags': 1169, 'cool': 575, 'trusted': 2638, 'words': 2848, 'soft': 2336, 'ignored': 1269, 'focused': 971, 'hurt': 1254, 'beneath': 288, 'screwed': 2210, 'mfs': 1634, 'holiday': 1222, 'round': 2148, 'fact': 878, 'burkeramsey': 392, 'swung': 2473, 'amphit': 149, 'sister': 2298, 'jonbenet': 1377, 'face': 874, 'golf': 1088, 'club': 526, 'previously': 1959, 'point': 1914, 'voting': 2744, 'trump': 2635, 'push': 2017, 'pieces': 1885, 'board': 333, 'toddler': 2585, 'wreck': 2869, 'everybody': 837, 'constantly': 564, 'byeeeeeeee': 411, 'rip': 2134, '100s': 4, 'womenchildren': 2843, 'inpouring': 1310, 'letter': 1476, 'subsist': 2436, 'checking': 481, 'quaint': 2025, 'virtuoso': 2732, 'ways': 2777, 'toward': 2607, 'hitting': 1215, 'children': 491, 'discipline': 715, 'quite': 2033, 'hypocrite': 1259, 'pure': 2013, 'sets': 2238, 'likegt': 1486, 'matter': 1598, 'came': 424, 'psycho': 2002, 'far': 896, 'hw': 1258, 'tonight': 2595, 'hello': 1198, 'first': 948, 'born': 344, 'laugh': 1451, 'jokes': 1375, 'passed': 1848, 'replaced': 2106, 'mute': 1695, 'fatalistic': 900, 'acceptance': 70, 'current': 637, 'situation': 2302, 'fatalism': 899, 'scottish': 2202, 'accent': 69, 'seek': 2218, 'conduct': 555, 'attacks': 220, 'israel': 1340, 'intended': 1316, 'reaction': 2066, 'inflame': 1300, 'feeling': 919, 'within': 2835, 'islamic': 1338, 'worldâ': 2854, 'frequenciesjanieck': 1005, 'devy': 698, 'gestort': 1061, 'aber': 59, 'geil': 1055, 'remix': 2102, 'shoutdrive': 2266, 'eyeforeye': 872, 'army': 191, 'forgives': 986, 'forgets': 984, 'pakistan': 1835, 'breaks': 359, 'laws': 1456, 'ia': 1260, 'follows': 976, 'luv': 1556, 'seeing': 2217, 'scowl': 2203, 'walking': 2752, 'protein': 1990, 'shaker': 2243, 'clenching': 517, 'fists': 952, 'immediately': 1278, 'suck': 2440, 'fake': 885, 'america': 141, 'fortunate': 993, 'equality': 819, 'intense': 1317, 'emotional': 804, 'aa': 57, 'passage': 1847, 'church': 504, 'ignorant': 1267, 'keeping': 1394, 'seen': 2221, 'floated': 964, 'theory': 2535, 'probably': 1969, 'stan': 2379, 'ignore': 1268, 'pets': 1873, 'vets': 2719, 'crap': 608, 'east': 780, 'blue': 331, 'summer': 2451, 'durban': 774, 'africa': 105, 'surfed': 2459, 'stung': 2432, 'badly': 233, 'carefulla': 439, 'harm': 1168, 'wigan': 2819, 'illusion': 1273, 'least': 1461, 'ladygaga': 1439, 'iscalmingmysoul': 1336, 'candace': 426, 'tits': 2582, 'forward': 994, 'opened': 1807, 'stuartspecial': 2426, 'yelled': 2892, 'tv': 2650, 'bang': 243, 'gordon': 1093, 'brown': 377, 'accused': 78, 'abusing': 66, 'gazillion': 1050, 'parrots': 1843, 'petition': 1871, 'nonmaghrebi': 1757, 'poc': 1912, 'buying': 407, 'couscous': 599, 'grocery': 1114, 'stores': 2408, 'trash': 2620, 'espn': 826, 'assumed': 214, 'wanted': 2758, 'magazines': 1569, 'yo': 2904, 'chat': 478, 'la': 1435, 'high': 1208, 'helium': 1194, 'gas': 1047, 'lmao': 1513, 'todays': 2584, 'proceedings': 1972, 'entire': 813, 'constituents': 565, 'sensing': 2229, 'theme': 2534, 'tho': 2548, 'lowkey': 1550, 'follow': 973, 'color': 531, 'looks': 1530, 'triggered': 2628, 'colorblind': 532, 'lest': 1471, 'racists': 2043, 'indeed': 1291, 'play': 1903, 'heavier': 1189, 'needed': 1716, 'amongst': 145, 'others': 1819, 'nthe': 1773, 'bigger': 302, 'bully': 388, 'crocodile': 614, 'bullies': 387, 'act': 84, 'irish': 1331, 'drinking': 755, 'water': 2775, 'leaves': 1464, 'foot': 978, 'firmly': 947, 'bog': 336, 'candices': 428, 'eye': 871, 'mate': 1595, 'weird': 2789, 'stingrays': 2401, 'steve': 2394, 'irwin': 1335, 'gotta': 1097, 'dark': 649, 'skin': 2306, 'natural': 1710, 'biological': 307, 'father': 901, 'cross': 616, 'bed': 277, 'sensible': 2228, 'incentivise': 1287, 'roam': 2139, 'morally': 1675, 'personâ': 1869, 'ravi': 2062, 'stans': 2382, 'amen': 140, 'complaining': 545, 'relentless': 2098, 'tirade': 2580, 'misery': 1653, 'indiansit': 1295, 'hard': 1165, 'swallow': 2465, 'try': 2640, 'pillthat': 1887, 'cricket': 612, 'nose': 1760, 'chills': 494, 'body': 335, 'flu': 967, 'fallsongs': 891, 'sjw': 2304, 'downni': 744, 'found': 998, 'usni': 2701, 'inni': 1307, 'loln': 1521, 'connivers': 561, 'blind': 320, 'existential': 850, 'firsttweetever': 949, 'sippin': 2294, 'hotchocolate': 1236, 'wondering': 2845, 'finally': 939, 'lt3': 1552, 'hellloooootwitter': 1197, 'facebookisforfamily': 876, 'directing': 709, 'thieves': 2541, 'governmentcorruption': 1099, 'feesmustfall': 922, 'outlet': 1822, 'denial': 680, 'timid': 2578, 'determined': 694, 'version': 2716, 'beyond': 298, 'land': 1441, 'growling': 1121, 'restrained': 2116, 'breath': 360, 'used': 2698, 'pretty': 1958, 'curse': 639, 'bit': 308, 'well': 2794, 'puff': 2007, 'hamstring': 1151, 'cramp': 607, 'ouch': 1821, 'arsed': 197, 'controls': 572, '90': 54, 'expac': 851, 'feels': 921, 'proper': 1983, 'evolution': 842, 'suicide': 2448, 'tweet': 2652, 'obviously': 1780, 'anyoneðÿ': 176, 'echo': 785, 'chamber': 463, 'lots': 1542, 'reverb': 2122, 'initiative': 1303, 'isnt': 1339, 'jojo': 1371, '1230': 8, 'midnight': 1639, 'wryyyyyy': 2877, 'happily': 1162, 'personally': 1868, 'unprovoked': 2687, 'deserve': 684, 'ak47': 116, 'spine': 2366, 'frown': 1012, 'recommended': 2082, 'reading': 2068, 'prisoners': 1966, 'aaron': 58, 'beck': 273, 'meee': 1616, 'disgracefulesin': 719, 'esinscountdown': 824, 'accidetly': 75, 'dumped': 773, 'usual': 2702, 'disappointing': 712, 'texans': 2525, 'corpse': 585, 'decision': 666, 'gtlt': 1127, 'promis': 1979, 'selfpromoters': 2225, 'else': 798, 'match': 1594, 'donalds': 735, 'cbs': 454, 'access': 72, 'live': 1508, 'feeds': 917, 'jc': 1355, 'vic': 2720, 'afp': 104, 'paulshould': 1855, 'opinion': 1809, 'whenever': 2805, 'adored': 94, 'alwayss': 137, 'sings': 2292, 'instead': 1314, 'umbrage': 2670, 'reporting': 2108, 'explore': 862, 'businesses': 400, 'symbolizes': 2474, 'feelings': 920, 'kei': 1396, 'unfairly': 2681, 'lips': 1498, 'dad': 645, 'deal': 661, 'soon': 2350, 'slipper': 2312, 'yikes': 2903, 'maddie': 1566, 'bushes': 398, 'tuh': 2642, 'sounds': 2357, 'red': 2084, 'justsaying': 1390, 'hudcomedy': 1244, 'adamrowe': 89, 'slutfaceshlongnugget': 2316, 'bring': 365, 'meech': 1615, 'bridgette': 364, 'crying': 622, 'hey': 1205, 'folks': 972, 'offensive': 1786, 'posted': 1937, 'yesterday': 2899, 'account': 76, 'hacked': 1140, 'fixed': 954, 'annoyed': 166, 'cb': 452, 'somehow': 2341, 'screw': 2209, 'bandaid': 241, 'itll': 1344, 'preposterous': 1954, 'jack': 1349, 'nicholsons': 1733, 'joker': 1374, 'unfortunately': 2682, 'followers': 974, 'candidate': 429, 'elected': 794, 'throw': 2561, 'winning': 2826, 'elec': 793, 'standing': 2381, 'aggravates': 109, 'young': 2906, 'bull': 386, 'yuuuhh': 2914, 'plus': 1910, 'clin': 518, 'ep': 815, 'prevmed': 1960, 'ugghhh': 2663, 'hahaha': 1143, 'temper': 2512, 'speaks': 2363, 'heard': 1183, 'ether': 831, 'ex': 844, 'facebook': 875, 'pic': 1880, 'snuggling': 2330, 'cats': 449, 'drunk': 766, 'weirdos': 2790, 'enjoy': 811, 'yet': 2900, 'deaths': 664, 'violations': 2730, 'despite': 689, 'widely': 2817, 'accepted': 71, 'concept': 550, 'accountability': 77, 'driving': 760, 'quentin': 2028, 'letts': 1478, 'comedy': 535, 'turns': 2648, 'bbctw': 265, 'completely': 547, 'conflict': 556, 'odds': 1782, 'honor': 1230, 'values': 2708, 'priorities': 1964, 'innerconflict': 1306, 'epipen': 817, 'public': 2005, 'occurs': 1781, 'expand': 852, 'pap': 1836, 'patient': 1853, 'assistance': 211, 'progrm': 1977, 'couponsrebates': 597, 'mylan': 1697, 'imagine': 1275, 'corbyn': 582, 'election': 795, 'smith': 2322, 'leads': 1458, 'labour': 1437, 'result': 2118, 'suggested': 2446, 'resorted': 2112, 'writing': 2872, 'cryptic': 624, 'code': 529, 'unclecamscabin': 2677, 'cadres': 414, 'src': 2376, 'deployment': 681, 'ku': 1433, 'tough': 2606, 'macom': 1563, 'care': 437, 'kisses': 1418, 'foreveralone': 982, 'holding': 1221, 'keeps': 1395, 'wants': 2760, 'comparing': 543, 'akshay': 117, 'sir': 2295, 'zandu': 2915, 'balm': 240, 'acid': 81, 'vessel': 2718, 'stored': 2407, 'pouredðÿ': 1941, 'nnmark': 1747, 'twain': 2651, 'spend': 2365, 'shimmy': 2252, 'drinks': 756, 'coming': 537, 'youtubegaming': 2910, 'whats': 2803, 'gender': 1056, 'bias': 299, 'indignant': 1296, 'fancypants': 893, 'saddlers': 2167, 'daughter': 655, 'opt': 1811, 'leather': 1462, 'jacket': 1350, 'thank': 2528, '19': 15, 'throws': 2562, 'legitimate': 1468, 'attention': 221, 'curiosity': 634, 'entity': 814, 'feeding': 916, 'fuel': 1022, 'speaking': 2362, 'quatrains': 2026, 'hmmm': 1216, 'vigilant': 2727, 'retaliation': 2120, 'weiner': 2788, 'huma': 1248, 'clam': 509, 'diggingnallscumbags': 705, 'guess': 1129, 'bradangelina': 354, 'gt': 1125, 'blacklivesmatter': 314, 'exs': 866, 'prank': 1948, 'whatprankishoulddo': 2802, 'despise': 688, 'rebuke': 2077, 'disciplines': 716, 'loves': 1548, 'proverbs': 1994, '31112': 29, 'ugly': 2667, 'suit': 2449, 'cannot': 431, 'expressing': 865, 'displeasure': 724, 'clips': 519, 'vigil': 2726, 'held': 1193, 'tulsa': 2643, 'metropolitan': 1631, 'baptist': 245, 'terencecruther': 2516, 'sadness': 2169, 'scare': 2192, 'coworkers': 604, 'eating': 784, 'animal': 160, 'srry': 2377, 'roy': 2150, 'puerto': 2006, 'rican': 2126, 'taino': 2480, 'targeted': 2491, 'listening': 1502, 'joey': 1367, 'helps': 1201, 'messing': 1629, 'favourite': 908, 'bakes': 235, 'firm': 946, 'coping': 579, 'mechanism': 1611, 'oops': 1806, 'ok': 1794, 'devil': 697, 'train': 2616, 'whether': 2809, 'india': 1293, 'movies': 1684, 'phantom': 1874, 'ghuskmarenge': 1067, 'wouldnt': 2864, 'date': 653, 'drop': 762, 'names': 1702, 'bored': 342, 'swap': 2466, 'pics': 1882, 'mix': 1659, 'bag': 234, 'unpredictable': 2686, 'lethal': 1474, 'weapons': 2780, 'worried': 2855, 'defense': 671, 'coordinators': 577, 'chargers': 471, 'boltup': 339, 'recharged': 2079, 'pressure': 1957, 'pipes': 1890, 'learn': 1460, 'viral': 2731, 'ballet': 238, 'trying': 2641, 'wrongfully': 2874, 'stick': 2397, 'models': 1663, 'pointe': 1915, 'sense': 2227, 'makeamericasafeagain': 1577, 'griffin': 1111, 'obama': 1778, 'putin': 2020, 'aleppo': 124, 'syria': 2476, 'beef': 279, 'sara': 2179, 'sagin': 2171, 'incense': 1285, 'screened': 2207, 'narcissistic': 1706, 'anymore': 174, 'trayvon': 2622, 'sandrabland': 2177, 'philando': 1875, 'ferguson': 930, 'batonrouge': 260, 'michaelbrown': 1636, 'doll': 730, 'vile': 2728, 'creature': 609, 'touchline': 2604, 'shouts': 2267, 'ref': 2087, 'jamming': 1351, 'math': 1596, 'wanting': 2759, 'hbu': 1179, 'wished': 2833, 'sis': 2297, '12': 7, '2nd': 27, 'fav': 904, 'abt': 64, 'industry': 1299, 'tr': 2611, 'hah': 1141, 'speak': 2361, 'cousin': 600, 'bare': 248, 'faced': 877, 'eh': 789, 'sight': 2277, 'indignation': 1297, 'whispers': 2812, 'terrific': 2518, 'lermanletts': 1469, 'centerpiece': 458, 'scene': 2195, 'overwhelming': 1829, 'rather': 2059, 'hang': 1155, 'weary': 2782, 'sigh': 2276, 'thatmoment': 2530, 'watching': 2774, 'worstcelebritycooks': 2861, 'bubble': 380, 'finding': 941, 'kylexy': 1434, 'gay': 1049, 'marriedðÿ': 1588, 'nochance': 1751, 'kindadontmindðÿ': 1416, 'greatwe': 1107, 'looked': 1528, 'washed': 2764, 'often': 1790, 'controlled': 570, 'rational': 2060, 'visceralnot': 2733, 'logical': 1518, 'leg': 1466, 'expected': 855, 'move': 1682, 'continue': 567, 'succeed': 2437, 'satisfaction': 2183, 'suffer': 2444, 'drill': 753, 'outthere': 1826, 'inthedark': 1324, 'lt': 1551, 'remember': 2101, 'evanora': 832, 'hoped': 1234, 'serve': 2234, 'creatures': 610, 'exactly': 845, 'fb': 909, 'radical': 2044, 'significantly': 2279, 'smile': 2318, 'none': 1756, 'drink': 754, 'chilled': 493, 'walter': 2755, 'mitty': 1658, 'types': 2659, 'brendan': 361, 'rodgers': 2143, 'baskets': 256, 'mood': 1672, 'please': 1909, 'chill': 492, 'af': 99, 'fbi': 910, 'cyran': 644, 'makeup': 1579, 'jeongguks': 1360, 'tiddy': 2570, 'tyson': 2661, 'beat': 272, 'danny': 648, 'garcia': 1044, 'bradley': 355, 'pacquaio': 1831, 'frampton': 999, 'nah': 1699, 'related': 2095, 'frustration': 1015, 'nope': 1759, 'british': 368, 'humour': 1251, 'challenge': 462, 'mainstream': 1572, 'views': 2725, 'clarkeson': 510, 'ultra': 2669, 'kneel': 1423, 'allah': 127, 'expecting': 857, 'troll': 2629, 'mentions': 1626, 'accusing': 79, 'csa': 626, 'apologist': 179, 'puzzle': 2022, 'investing': 1326, 'opening': 1808, 'portland': 1932, 'feodal': 929, 'population': 1929, 'correlative': 586, 'snorting': 2329, 'xlzjyhg': 2883, 'gives': 1073, 'frustrated': 1014, 'growl': 1120, 'stepping': 2393, 'closer': 522, 'barrier': 251, 'alarms': 120, 'buy': 406, 'tape': 2490, 'phones': 1877, 'bought': 347, 'dreamboys': 752, 'tickets': 2569, 'battle': 261, 'ugliest': 2666, 'survival': 2462, 'nick': 1734, 'territorial': 2520, 'close': 521, 'hesananimal': 1204, 'mean': 1607, '937': 55, 'blames': 317, 'cases': 446, 'lot': 1541, 'totally': 2603, 'knew': 1424, 'soninlaws': 2349, 'prosecutionimprisonment': 1987, 'christie': 501, 'bus': 396, 'belittling': 287, 'kitty': 1421, 'lift': 1484, 'aboard': 60, 'wycelv': 2881, 'played': 1904, 'john': 1369, 'elway': 799, 'sacked': 2164, '3x': 36, 'fumbled': 1027, 'series': 2231, 'celebrity': 456, 'firefighting': 945, 'chuck': 502, 'building': 385, 'voiceover': 2739, 'hours': 1238, 'worth': 2862, 'calorie': 422, '1stworldprobs4vs': 17, 'govt': 1100, 'teams': 2507, 'barca': 247, 'bayern': 262, 'defeat': 669, 'thrive': 2559, 'hot': 1235, 'isi': 1337, 'ewu': 843, 'welfarereform': 2793, 'model': 1662, 'heel': 1191, 'votes': 2743, 'losetheyre': 1538, 'trumps': 2637, 'base': 252, 'hear': 1182, 'overseer': 1828, 'itn': 1345, 'skipping': 2308, 'meals': 1606, 'national': 1708, 'showing': 2270, 'disappointment': 713, 'wiz': 2837, 'itunes': 1346, 'stepped': 2392, 'vinyl': 2729, 'nmade': 1746, 'simple': 2284, 'heart': 1184, 'againnnslight': 106, 'smilennheheh': 2319, 'kidding': 1405, 'veggie': 2709, 'burgers': 391, 'pilot': 1888, 'nice': 1732, 'group': 1117, 'actors': 87, 'perform': 1864, 'story': 2411, 'lines': 1496, 'dripping': 757, 'nihilism': 1742, 'checkedin': 480, 'flight': 962, 'toronto': 2601, 'took': 2598, 'seat': 2213, '3d': 34, 'egyptian': 788, 'officials': 1789, 'expressed': 864, 'obamahillary': 1779, 'administrationâ': 93, 'brotherhood': 375, 'tiff': 2572, 'hurry': 1253, 'pathetically': 1852, 'sympathy': 2475, 'twirl': 2655, 'moustache': 1681, 'chuckle': 503, 'psychowasp': 2004, 'matt': 1597, 'psychological': 2003, 'study': 2430, 'relationships': 2096, 'greater': 1106, 'donal': 733, 'ã³g': 2925, 'sure': 2458, 'cork': 584, 'dopey': 741, 'frank': 1002, 'cult': 629, 'curious': 635, 'animosity': 163, 'disdain': 718, 'hairline': 1146, 'alone': 133, 'expansion': 853, 'gear': 1054, 'softballs': 2337, 'jimmy': 1363, 'fallon': 890, 'ampldquosoftballamprdquo': 150, 'donald': 734, 'interview': 1323, 'furrow': 1034, 'redden': 2085, 'protests': 1992, 'seem': 2219, 'unattractive': 2674, 'wukongs': 2879, 'wasâ': 2770, 'fwendz': 1037, 'last': 1446, 'sleep': 2310, 'extra': 868, 'paul': 1854, 'yep': 2896, 'yalls': 2886, 'menforchoice': 1624, 'generation': 1058, 'chop': 498, 'chris': 499, 'ate': 217, 'mac': 1560, 'cheese': 484, 'imma': 1276, 'taffy': 2479, 'maintain': 1573, 'boost': 341, 'status': 2388, 'centre': 459, 'education': 786, 'culture': 630, 'discussing': 717, 'confusion': 557, 'peter': 1870, 'piece': 1884, 'digs': 706, 'total': 2602, 'balanced': 236, 'pro': 1968, 'realistic': 2071, '75': 51, 'tierney': 2571, 'reaches': 2064, 'deep': 668, 'plays': 1908, 'alloa': 130, 'defence': 670, 'clear': 516, 'celtic': 457, 'nc': 1712, 'day': 658, 'pointed': 1916, 'facts': 879, 'embarrassed': 802, 'slightest': 2311, 'fret': 1006, 'pipe': 1889, 'thirst': 2547, 'sheltered': 2250, 'taurus': 2498, 'react': 2065, 'angrily': 158, 'provoked': 1998, 'seems': 2220, 'fight': 934, 'leafy': 1459, 'roast': 2140, 'pokemon': 1919, 'relevant': 2099, 'yi': 2902, 'pastry': 1850, 'dumbed': 772, 'simplified': 2285, 'brissett': 367, 'complicated': 548, 'becoming': 275, 'melting': 1621, 'frozen': 1013, 'realizing': 2074, 'immaturity': 1277, 'wisdom': 2829, 'disappointmentnnhe': 714, 'fakes': 886, 'starts': 2387, 'ngrasp': 1730, 'cobalt': 528, 'womans': 2841, 'fairly': 883, 'cheeks': 482, 'ignite': 1265, 'hue': 1245, 'warm': 2761, 'directtv': 710, 'sit': 2300, 'silent': 2281, 'press': 1956, 'struggle': 2425, 'develops': 696, 'strong': 2423, 'character': 469, 'yellow': 2895, 'ranger': 2053, 'asian': 203, 'representation': 2109, 'hollywood': 1223, 'essentially': 827, 'shrug': 2272, 'anyway': 178, 'tip': 2579, '101': 5, 'unresolved': 2689, 'likely': 1487, 'problems': 1971, 'several': 2239, 'areas': 188, 'recognize': 2080, 'properly': 1984, 'rap': 2056, 'albums': 122, 'theyll': 2538, 'gosh': 1095, 'darn': 651, 'rid': 2127, 'unleashing': 2685, 'gods': 1084, 'cain': 415, 'tennessee': 2515, 'it1': 1342, 'dis': 711, 'dat': 652, 'nigga': 1737, 'projection': 1978, 'perception': 1861, 'level': 1479, 'worry': 2856, 'jayme': 1354, 'yourðÿ': 2908, 'cuz': 643, 'youðÿ': 2912, 'tomorrow': 2592, 'favorite': 906, 'songs': 2348, 'controlling': 571, 'promised': 1981, 'paradise': 1839, 'quran': 2037, 'surah': 2457, 'al': 118, 'imran': 1283, 'verses': 2715, '133134': 10, 'reward': 2124, 'gooddeed': 1092, '1975': 16, 'playing': 1907, 'antichrist': 172, 'hustle': 1257, 'broken': 372, 'magazine': 1568, 'otherwisewho': 1820, 'apologizing': 181, 'nahhhhhh': 1700, 'bussing': 401, 'distraught': 725, 'gardevoir': 1045, 'wishes': 2834, 'trainer': 2617, 'line': 1494, 'germantownbroncos': 1060, 'lilleague': 1491, 'popwarner': 1930, 'broncos': 373, 'usafootball': 2696, 'lineman': 1495, 'arms': 190, 'overpowered': 1827, 'nerfed': 1720, 'stronger': 2424, 'average': 222, 'klitschko': 1422, '600k': 45, 'joshua': 1380, '450k': 39, 'punt': 2012, 'lol': 1519, 'juan': 1383, 'ripshawtylo': 2135, 'bout': 348, 'rappers': 2058, 'especially': 825, 'lovely': 1547, 'sadly': 2168, 'removes': 2104, 'potentially': 1939, 'mr': 1687, 'convo': 574, 'momma': 1666, 'asking': 206, 'questions': 2029, 'officially': 1788, '98': 56, 'boys': 352, 'trophy': 2631, 'glory': 1078, 'wptmain': 2867, 'trouble': 2632, 'feigned': 925, 'told': 2589, 'behave': 281, 'np': 1769, 'rum': 2159, 'bloke': 326, 'west': 2797, 'ham': 1150, 'loudly': 1544, 'slagging': 2309, 'stadium': 2378, 'agree': 113, 'td': 2501, 'score': 2199, 'drive': 758, 'trumpism': 2636, 'likewise': 1489, 'rests': 2117, 'racial': 2040, 'knowingly': 1429, 'intentionally': 1321, 'shouldnt': 2265, 'lives': 1509, 'complete': 546, 'journey': 1381, 'successfully': 2439, 'kept': 1401, 'gary': 1046, 'sanchez': 2176, 'baseball': 253, 'player': 1905, 'kalis': 1392, 'kitten': 1420, 'curling': 636, 'skinned': 2307, 'forehead': 980, 'showed': 2269, 'scar': 2191, 'cat': 448, 'husband': 1256, 'hockey': 1217, 'waited': 2748, 'window': 2825, 'stickers': 2398, 'sj': 2303, 'nhlahl': 1731, 'assets': 210, 'rbs': 2063, 'wrs': 2876, 'longterm': 1525, 'utilize': 2704, 'low': 1549, 'escaping': 823, 'papercuts': 1838, 'stub': 2427, 'toe': 2586, 'secs': 2215, 'salty': 2173, 'fries': 1010, 'mcdonalds': 1605, 'fingers': 943, 'shits': 2256, 'megan': 1620, 'jenner': 1359, 'sat': 2180, 'cam': 423, 'rattled': 2061, 'backlash': 230, 'qb': 2023, 'comment': 538, 'suffered': 2445, 'lies': 1482, 'alexandria': 125, 'goddard': 1083, 'derics': 682, 'purely': 2014, 'fishin': 950, 'expedition': 858, 'coz': 605, 'soccer': 2331, 'visionnnhelen': 2734, 'kellernnbegin': 1398, 'mindnnstephen': 1646, 'coveynn': 601, 'whereareugoing': 2807, 'nicole': 1735, 'cory': 589, 'evicted': 841, 'coveynnwhereareugoing': 602, 'sweeter': 2470, 'victory': 2722, 'biting': 311, 'tongue': 2594, 'elephants': 796, 'wrestled': 2870, 'pigs': 1886, 'quoteoftheday': 2035, 'ˆðÿ': 2936, 'archie': 186, 'kinda': 1415, 'scored': 2200, 'vita': 2737, '20au': 22, '70': 49, 'bargain': 249, 'vit': 2736, 'scuffs': 2211, 'iâ': 1348, 'll': 1512, 'whichâ': 2811, 'wet': 2799, 'handed': 1153, 'toilet': 2588, 'ydu': 2887, 'yell': 2891, 'crowded': 617, 'theater': 2532, 'flames': 956, 'trick': 2625, 'bu': 379, 'congress': 559, 'acting': 85, 'pricing': 1961, 'disingenuous': 721, 'craft': 606, 'gouging': 1098, 'supports': 2454, 'tweeted': 2653, 'thread': 2554, 'initially': 1302, 'articles': 200, 'event': 834, 'brock': 369, 'vs': 2745, 'orton': 1817, 'wwe': 2880, 'network': 1723, 'grateful': 1105, 'change': 464, 'grow': 1118, 'etc': 830, 'anybody': 173, 'cactus': 413, 'loser': 1536, 'wcw': 2778, 'bash': 255, 'beach': 269, 'dip': 708, 'rises': 2136, 'consequences': 562, 'quote': 2034, 'kicking': 1403, 'ðÿš': 2929, 'rooney': 2146, 'shadow': 2241, 'former': 990, 'shadows': 2242, 'ntfcvmufc': 1772, 'realize': 2073, 'truly': 2634, 'schneiderlin': 2196, 'fouls': 997, '17': 14, 'glass': 1077, 'vodka': 2738, 'til': 2574, 'someones': 2343, 'bday': 268, 'flaunt': 959, 'awesome': 226, 'independant': 1292, 'practical': 1945, 'fantasy': 895, 'wounds': 2865, 'heelsnn': 1192, 'drunkjesus': 767, 'rt': 2151, 'funny': 1032, 'potus2016': 1940, 'grumpy': 1124, 'upsidedownnnyou': 2693, 'impossible': 1282, 'important': 1281, 'bestrong': 295, 'hold': 1219, 'thoughts': 2552, 'caller': 419, 'max': 1601, 'listens': 1503, 'place': 1897, 'start': 2383, 'singing': 2290, 'stories': 2409, 'tractor': 2614, 'earth': 778, 'luck': 1553, 'rest': 2115, 'fall': 888, 'bestdayever': 293, 'magic': 1570, 'erica': 821, 'joanna': 1365, 'sirli': 2296, 'harley': 1167, 'anja': 164, 'gc': 1053, 'ran': 2052, 'chara': 468, 'hurts': 1255, 'read': 2067, 'marshmallows': 1589, 'œdo': 2930, 'humans': 1250, 'coolâ': 576, 'bot': 345, 'problem': 1970, 'ninja': 1743, 'turtle': 2649, 'costume': 592, 'osu': 1818, 'halloween': 1149, 'hoop': 1231, 'netizen': 1722, 'rules': 2158, 'massive': 1593, 'success': 2438, 'sinatra': 2287, 'sharing': 2247, 'oneills': 1802, 'article': 199, 'saddens': 2166, 'gazza': 1051, 'sentence': 2230, 'remark': 2100, 'worship': 2859, 'feetnwhere': 924, 'mercy': 1627, 'meetnand': 1619, 'guilty': 1131, 'washednby': 2765, 'streamnâ': 2415, 'graham': 1103, 'œhe': 2931, 'slow': 2313, 'mighty': 1641, 'spirit': 2367, 'cityâ': 508, 'np1632': 1770, 'bibleverse': 300, 'pride': 1963, 'blessings': 319, 'forgive': 985, 'haters': 1174, 'taught': 2497, 'shown': 2271, 'treat': 2623, 'william': 2820, 'congreve': 560, '3rd': 35, 'balls': 239, 'games': 1041, 'zombie': 2917, 'prayers': 1951, 'protection': 1989, 'sisters': 2299, 'loled': 1520, 'privileged': 1967, 'exasperation': 846, 'bottled': 346, 'sold': 2338, 'warrior': 2763, 'guide': 1130, 'community': 541, 'raids': 2049, 'machine': 1561, 'drops': 763, 'nurse': 1776, 'practitioner': 1947, 'course': 598, 'nnthank': 1748, 'added': 91, 'spark': 2360, 'positivity': 1934, 'upside': 2692, 'stirring': 2402, 'hand': 1152, 'stay': 2389, 'together': 2587, 'safe': 2170, 'shes': 2251, 'jogging': 1368, 'beside': 291, 'puffing': 2008, 'jeez': 1358, 'jasper': 1353, 'solution': 2339, 'assumptions': 215, 'venue': 2713, 'causes': 451, 'short': 2263, 'scale': 2190, 'purposes': 2015, 'nowchronic': 1767, 'tendonitis': 2514, 'gameday': 1039, 'buford': 383, '530': 43, 'excited': 847, 'tonights': 2596, 'dragrace': 747, 'allstars2': 132, 'episode': 818, 'yaassss': 2884, 'queens': 2027, 'teamalaska': 2505, 'teamkatya': 2506, 'bwahaha': 409, 'wasp': 2767, 'itchy': 1343, 'haired': 1145, 'strides': 2420, 'watches': 2773, 'major': 1574, 'flinches': 963, 'draws': 750, 'throat': 2560, 'century': 460, 'welcome': 2791, '21st': 23, 'tiger': 2573, 'mosquitoes': 1678, 'dealt': 662, 'motivations': 1680, 'proving': 1995, 'wrong': 2873, 'energy': 809, 'motivationalquotes': 1679, 'touchy': 2605, 'subject': 2435, 'fearing': 913, 'youll': 2905, 'sushi': 2463, 'dateðÿ': 654, 'an': 151, 'olive': 1799, 'guarded': 1128, '¼rockys': 2922, 'clock': 520, 'ringing': 2133, 'morning': 1677, 'flatmate': 958, 'knocked': 1426, 'set': 2237, 'alive': 126, 'fast': 897, 'tas': 2492, 'gamedev': 1040, 'program': 1974, 'tay': 2500, '800': 53, 'cruise': 619, 'grope': 1115, 'thighs': 2542, 'squeezing': 2375, 'digging': 704, 'nails': 1701, 'extract': 869, 'died': 702, 'cryingnfrom': 623, 'joy': 1382, 'nits': 1744, 'fun': 1030, 'dudes': 770, 'rock': 2142, 'roll': 2144, 'lmaooo': 1514, 'political': 1923, 'landscape': 1443, 'desolate': 687, 'foaming': 969, 'wasteland': 2769, 'wise': 2830, 'holdin': 1220, 'likenletting': 1488, 'somebody': 2340, 'head': 1180, 'rent': 2105, 'lizzy': 1511, 'warrens': 2762, 'latest': 1449, 'wall': 2753, 'praying': 1952, 'jealousy': 1357, 'maturity': 1599, 'conciseness': 552, 'feet': 923, 'blush': 332, 'undress': 2680, 'snapped': 2327, 'main': 1571, '13c': 11, 'void': 2740, 'empty': 806, 'growing': 1119, 'music': 1692, 'running': 2161, 'traffic': 2615, '20052007': 18, 'promise': 1980, 'wisewords': 2831, 'weak': 2779, 'videos': 2723, 'ehhh': 790, 'ofðÿ': 1791, 'reverseengineered': 2123, 'scientific': 2198, 'method': 1630, 'yesssapparently': 2898, 'popular': 1928, 'grown': 1122, 'adult': 96, 'drank': 748, 'assume': 213, 'raised': 2051, 'alcoholic': 123, 'parts': 1845, 'zumba': 2918, 'piyo': 1895, 'hiit': 1210, 'sessions': 2236, 'sweaty': 2468, 'sooooooo': 2351, 'missedoutonsummerbikinibodybutwintersunbodywilldo': 1656, 'agins': 111, 'cheap': 479, 'politeness': 1922, 'expensive': 859, 'polite': 1921, 'thoughtfulthursday': 2551, 'cd': 455, 'rhyme': 2125, 'flow': 966, 'dollar': 731, 'ghandi': 1066, 'pumped': 2010, 'adrenaline': 95, 'franchise': 1000, 'tweets': 2654, 'cigarette': 505, 'lauras': 1454, 'angle': 157, 'chin': 495, 'purse': 2016, 'lips104': 1499, 'gorgeous': 1094, 'transition': 2619, 'save': 2186, 'nawazsharifnn': 1711, 'awareness': 224, 'shelter': 2249, 'letgo': 1473, 'habit': 1139, 'chasing': 477, 'desires': 686, 'resultin': 2119, 'fear': 912, 'choose': 497, 'peace': 1856, 'relax': 2097, 'wolfpack': 2839, 'trons': 2630, 'wore': 2849, 'wolf': 2838, 'shirt': 2253, 'past': 1849, 'mhchat': 1635, 'moody': 1673, 'minding': 1644, 'business': 399, 'grinding': 1112, 'forgiving': 987, 'regarde': 2093, 'tes': 2522, 'standard': 2380, 'starting': 2386, 'startasyoumeantogoon': 2384, 'orange': 1812, 'poisonous': 1918, 'judge': 1384, 'tastes': 2496, 'delicious': 676, '2k17': 26, 'ps4': 2000, 'trackdawgt': 2612, 'mode': 1661, 'fifa': 933, 'acounthe': 82, 'ranks': 2055, '32': 30, '36': 33, 'sabr': 2163, 'justin': 1389, 'concert': 551, 'thousand': 2553, 'smiles': 2320, 'nightbelievetour': 1740, 'boxing': 349, 'tiangong': 2566, 'chinas': 496, 'space': 2359, 'laboratory': 1436, '2017': 21, 'decommissioned': 667, 'satellite': 2182, 'burns': 394, 'houston': 1240, 'lose': 1535, 'swedens': 2469, 'goals': 1081, 'went': 2795, 'bodega': 334, 'lookd': 1527, 'behind': 284, 'counter': 594, 'mirror': 1651, 'originally': 1816, 'leveled': 1480, 'classic': 512, 'cars': 443, 'plymouth': 1911, 'kik': 1407, 'anonymously': 169, 'vsvplou': 2746, 'kikme': 1408, 'nudes': 1774, 'focus': 970, 'define': 672, 'cup': 633, 'step': 2391, 'aside': 204, 'angela': 154, '³the': 2919, 'intensity': 1318, 'extraordinary': 870, 'aflcatsswans': 102, 'aflfinals': 103, 'andriaprebles': 153, 'colors': 533, 'heatwaves': 1187, 'lattes': 1450, 'batches': 258, 'visit': 2735, 'pumpkin': 2011, 'patches': 1851, 'ldf16': 1457, 'shall': 2244, 'weekend': 2786, 'spraypainting': 2371, 'greenwichmarket': 1109, 'core246': 583, 'lilylou': 1492, 'benoakley': 289, 'ignorance': 1266, 'meeee': 1617, 'lvl': 1558, '320': 31, 'single': 2291, 'dragons': 746, 'sort': 2353, 'suspect': 2464, 'double': 742, 'peeped': 1859, 'homie': 1226, 'âœšðÿ': 2924, 'indignity': 1298, 'newenglandpatriots': 1727, 'jerseys': 1361, 'whack': 2801, 'custom': 640, '04': 0, 'abundance': 65, 'jk': 1364, 'massage': 1592, 'cucumbers': 628, 'places': 1899, '630am': 47, 'meeting': 1618, 'olympic': 1800, '10golds24': 6, 'neverquit': 1725, 'dreambig': 751, 'teamtto': 2508, 'going4gold': 1087, 'easy': 781, 'harder': 1166, 'happiness': 1163, 'area': 187, 'hearths': 1185, 'funniest': 1031, 'happening': 1160, 'boring': 343, 'mm': 1660, 'okay': 1795, 'turkey': 2644, 'kitchen': 1419, 'gtgtn': 1126, 'naoto': 1703, 'nod': 1752, 'tha': 2527, 'bands': 242, 'papa': 1837, 'roach': 2137, 'nquotes': 1771, 'quotestoliveby': 2036, 'plan': 1901, 'chemistry': 486, 'heaven': 1188, 'thursdays': 2565, '6pm': 48, 'vespers': 2717, 'meditation': 1614, 'prayerful': 1950, 'plainsong': 1900, 'multisensory': 1690, 'candles': 430, 'psalms': 2001, 'silence': 2280, 'faithful': 884, 'sing': 2289, 'pray': 1949, 'hialeshia': 1206, 'carlabtst15': 440, 'busy': 402, 'teaching': 2503, 'selfie': 2224, 'mall': 1582, 'desication': 685, 'immense': 1279, 'perfection': 1863, 'followersðÿ': 975, 'peanut': 1857, 'smiling': 2321, 'âœ': 2923, 'jared': 1352, 'bathing': 259, 'suits': 2450, 'brodcast': 370, 'ughhh': 2665, 'clean': 513, 'lit': 1504, 'aromatherapy': 192, 'vale': 2707, 'sip': 2293, 'sangria': 2178, 'taste': 2495, 'tantalizing': 2487, 'tapas': 2489, 'flamenco': 955, 'nights': 1741, 'minutesfromhom': 1650, 'silverlake': 2282, 'song': 2347, 'luckily': 1554, 'lolololol': 1522, 'ellie': 797, 'loads': 1515, 'gifts': 1068, 'notes': 1761, 'uni': 2684, 'herðÿ': 1202, 'khan': 1402, 'girly': 1071, 'lashes': 1445, 'tomboy': 2591, 'refuse': 2092, 'minus': 1648, '1430': 12, 'rose': 2147, 'wrinkles': 2871, 'merely': 1628, 'hide': 1207, 'mark': 1587}\n"
          ]
        }
      ]
    },
    {
      "cell_type": "code",
      "source": [
        "print(bow[0].toarray())"
      ],
      "metadata": {
        "id": "qmUYUjUl3Km2",
        "colab": {
          "base_uri": "https://localhost:8080/"
        },
        "outputId": "19097ad1-f960-4857-c41f-c96329dd058c"
      },
      "execution_count": null,
      "outputs": [
        {
          "output_type": "stream",
          "name": "stdout",
          "text": [
            "[[0 0 0 ... 0 0 0]]\n"
          ]
        }
      ]
    },
    {
      "cell_type": "code",
      "source": [
        "import numpy as np"
      ],
      "metadata": {
        "id": "rEY4k_SSt1Lm"
      },
      "execution_count": null,
      "outputs": []
    },
    {
      "cell_type": "code",
      "source": [
        "bow.shape"
      ],
      "metadata": {
        "colab": {
          "base_uri": "https://localhost:8080/"
        },
        "id": "kaNGix_JqJqX",
        "outputId": "f057acce-d3cc-4ad0-d8db-9eea5ad8ebb6"
      },
      "execution_count": null,
      "outputs": [
        {
          "output_type": "execute_result",
          "data": {
            "text/plain": [
              "(857, 2937)"
            ]
          },
          "metadata": {},
          "execution_count": 29
        }
      ]
    },
    {
      "cell_type": "code",
      "source": [
        "y = df['rating']"
      ],
      "metadata": {
        "id": "DQ0zsB1quzy7"
      },
      "execution_count": null,
      "outputs": []
    },
    {
      "cell_type": "code",
      "source": [
        "bow.shape"
      ],
      "metadata": {
        "colab": {
          "base_uri": "https://localhost:8080/"
        },
        "id": "zw55ekiY4I9z",
        "outputId": "b40b5a0f-c378-43ce-80d5-c38a4774bc59"
      },
      "execution_count": null,
      "outputs": [
        {
          "output_type": "execute_result",
          "data": {
            "text/plain": [
              "(857, 2937)"
            ]
          },
          "metadata": {},
          "execution_count": 38
        }
      ]
    },
    {
      "cell_type": "code",
      "source": [
        "y.shape"
      ],
      "metadata": {
        "colab": {
          "base_uri": "https://localhost:8080/"
        },
        "id": "C1Odc0YxtnyC",
        "outputId": "b70abf53-6056-49ee-bffd-2adb0d805b46"
      },
      "execution_count": null,
      "outputs": [
        {
          "output_type": "execute_result",
          "data": {
            "text/plain": [
              "(857,)"
            ]
          },
          "metadata": {},
          "execution_count": 31
        }
      ]
    },
    {
      "cell_type": "code",
      "source": [
        "from sklearn.linear_model import LinearRegression\n",
        "from sklearn.model_selection import train_test_split\n",
        "from sklearn.metrics import mean_absolute_error, mean_squared_error, r2_score\n",
        "\n",
        "X_train, X_test, y_train, y_test = train_test_split(bow, y, test_size=0.2, random_state=42)\n",
        "\n",
        "model = LinearRegression()\n",
        "\n",
        "model.fit(X_train, y_train)\n",
        "\n",
        "y_pred = model.predict(X_test)\n",
        "\n",
        "# Calculate metrics\n",
        "mae = mean_absolute_error(y_test, y_pred)\n",
        "mse = mean_squared_error(y_test, y_pred)\n",
        "rmse = np.sqrt(mse)\n",
        "r2 = r2_score(y_test, y_pred)\n",
        "\n",
        "mae, mse, rmse, r2"
      ],
      "metadata": {
        "colab": {
          "base_uri": "https://localhost:8080/"
        },
        "id": "14z2KfL2z0ru",
        "outputId": "bbb2b4f5-eb8d-42bd-93bb-9f41d131f64d"
      },
      "execution_count": null,
      "outputs": [
        {
          "output_type": "execute_result",
          "data": {
            "text/plain": [
              "(0.13983639227060343,\n",
              " 0.031171856925518795,\n",
              " 0.17655553496143583,\n",
              " -0.07069075781133694)"
            ]
          },
          "metadata": {},
          "execution_count": 42
        }
      ]
    }
  ]
}